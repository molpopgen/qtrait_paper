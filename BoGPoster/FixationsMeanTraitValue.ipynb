{
 "cells": [
  {
   "cell_type": "markdown",
   "metadata": {},
   "source": [
    "The contribution of sweeps to mean trait value.\n",
    "\n",
    "This notebook requires that StandingVsNew be run, as we'll need its 'pickled' outputs..."
   ]
  },
  {
   "cell_type": "code",
   "execution_count": 1,
   "metadata": {
    "collapsed": false
   },
   "outputs": [
    {
     "name": "stderr",
     "output_type": "stream",
     "text": [
      "/usr/local/lib/python2.7/dist-packages/matplotlib/font_manager.py:273: UserWarning: Matplotlib is building the font cache using fc-list. This may take a moment.\n",
      "  warnings.warn('Matplotlib is building the font cache using fc-list. This may take a moment.')\n"
     ]
    }
   ],
   "source": [
    "%matplotlib inline\n",
    "import matplotlib\n",
    "import matplotlib.pyplot as plt\n",
    "import pandas as pd\n",
    "import numpy as np\n",
    "import math\n",
    "import glob\n",
    "import pickle"
   ]
  },
  {
   "cell_type": "code",
   "execution_count": 2,
   "metadata": {
    "collapsed": true
   },
   "outputs": [],
   "source": [
    "ff=glob.glob('../*.popstats.h5')"
   ]
  },
  {
   "cell_type": "code",
   "execution_count": 3,
   "metadata": {
    "collapsed": false
   },
   "outputs": [
    {
     "name": "stdout",
     "output_type": "stream",
     "text": [
      "{'H2': '0.2', 'OPT': '0.5', 'mu': '0.001'}\n",
      "0.5\n",
      "   index  generation  stat     value  rep  Opt\n",
      "0      8           1  tbar  0.000951    0  0.5\n",
      "1     18           2  tbar -0.001216    0  0.5\n",
      "2     28           3  tbar  0.004676    0  0.5\n",
      "3     38           4  tbar  0.003865    0  0.5\n",
      "4     48           5  tbar  0.004666    0  0.5\n",
      "[640223, 640226, 640427, 640429, 640430, 640431, 640432, 640524, 640525, 640528]\n"
     ]
    }
   ],
   "source": [
    "RESULTS90=[]\n",
    "RESULTS100=[]\n",
    "\n",
    "for i in ff[:1]:\n",
    "    fn=i\n",
    "    i=i.strip('../')\n",
    "    i=i.strip('.popstats.h5')\n",
    "    i=i.split('_')\n",
    "    parms=dict(zip(i[0::2],i[1::2]))\n",
    "    print parms\n",
    "    OPT=float(parms['OPT'])\n",
    "    print OPT\n",
    "    x=pd.read_hdf(fn)\n",
    "    x=x[x.stat=='tbar']\n",
    "    x.reset_index(inplace=True)\n",
    "\n",
    "    x['Opt']=[OPT]*len(x.index)\n",
    "    print x.head()\n",
    "    IDX=x[(x.value >= 0.95*OPT)].index.tolist()\n",
    "    print IDX[:10]\n",
    "    xx=x.iloc[IDX]\n",
    "\n",
    "    RESULTS90.append(xx.groupby('rep').min())\n",
    "    \n",
    "    IDX=x[(x.value >= OPT)].index.tolist()\n",
    "    xx=x.iloc[IDX]\n",
    "    RESULTS100.append(xx.groupby('rep').min())\n"
   ]
  },
  {
   "cell_type": "code",
   "execution_count": 4,
   "metadata": {
    "collapsed": false
   },
   "outputs": [
    {
     "data": {
      "text/plain": [
       "1"
      ]
     },
     "execution_count": 4,
     "metadata": {},
     "output_type": "execute_result"
    }
   ],
   "source": [
    "len(RESULTS90)"
   ]
  },
  {
   "cell_type": "code",
   "execution_count": 5,
   "metadata": {
    "collapsed": false
   },
   "outputs": [
    {
     "data": {
      "text/html": [
       "<div>\n",
       "<table border=\"1\" class=\"dataframe\">\n",
       "  <thead>\n",
       "    <tr style=\"text-align: right;\">\n",
       "      <th></th>\n",
       "      <th>index</th>\n",
       "      <th>generation</th>\n",
       "      <th>stat</th>\n",
       "      <th>value</th>\n",
       "      <th>Opt</th>\n",
       "    </tr>\n",
       "    <tr>\n",
       "      <th>rep</th>\n",
       "      <th></th>\n",
       "      <th></th>\n",
       "      <th></th>\n",
       "      <th></th>\n",
       "      <th></th>\n",
       "    </tr>\n",
       "  </thead>\n",
       "  <tbody>\n",
       "    <tr>\n",
       "      <th>0</th>\n",
       "      <td>2238</td>\n",
       "      <td>10223</td>\n",
       "      <td>tbar</td>\n",
       "      <td>0.475146</td>\n",
       "      <td>0.5</td>\n",
       "    </tr>\n",
       "    <tr>\n",
       "      <th>1</th>\n",
       "      <td>938</td>\n",
       "      <td>10093</td>\n",
       "      <td>tbar</td>\n",
       "      <td>0.475002</td>\n",
       "      <td>0.5</td>\n",
       "    </tr>\n",
       "    <tr>\n",
       "      <th>2</th>\n",
       "      <td>958</td>\n",
       "      <td>10095</td>\n",
       "      <td>tbar</td>\n",
       "      <td>0.475009</td>\n",
       "      <td>0.5</td>\n",
       "    </tr>\n",
       "    <tr>\n",
       "      <th>3</th>\n",
       "      <td>938</td>\n",
       "      <td>10093</td>\n",
       "      <td>tbar</td>\n",
       "      <td>0.475007</td>\n",
       "      <td>0.5</td>\n",
       "    </tr>\n",
       "    <tr>\n",
       "      <th>4</th>\n",
       "      <td>1318</td>\n",
       "      <td>10131</td>\n",
       "      <td>tbar</td>\n",
       "      <td>0.475054</td>\n",
       "      <td>0.5</td>\n",
       "    </tr>\n",
       "    <tr>\n",
       "      <th>5</th>\n",
       "      <td>1298</td>\n",
       "      <td>10129</td>\n",
       "      <td>tbar</td>\n",
       "      <td>0.475030</td>\n",
       "      <td>0.5</td>\n",
       "    </tr>\n",
       "    <tr>\n",
       "      <th>6</th>\n",
       "      <td>1208</td>\n",
       "      <td>10120</td>\n",
       "      <td>tbar</td>\n",
       "      <td>0.475009</td>\n",
       "      <td>0.5</td>\n",
       "    </tr>\n",
       "    <tr>\n",
       "      <th>7</th>\n",
       "      <td>878</td>\n",
       "      <td>10087</td>\n",
       "      <td>tbar</td>\n",
       "      <td>0.475002</td>\n",
       "      <td>0.5</td>\n",
       "    </tr>\n",
       "    <tr>\n",
       "      <th>8</th>\n",
       "      <td>2128</td>\n",
       "      <td>10212</td>\n",
       "      <td>tbar</td>\n",
       "      <td>0.475152</td>\n",
       "      <td>0.5</td>\n",
       "    </tr>\n",
       "    <tr>\n",
       "      <th>9</th>\n",
       "      <td>3668</td>\n",
       "      <td>10366</td>\n",
       "      <td>tbar</td>\n",
       "      <td>0.475012</td>\n",
       "      <td>0.5</td>\n",
       "    </tr>\n",
       "  </tbody>\n",
       "</table>\n",
       "</div>"
      ],
      "text/plain": [
       "     index  generation  stat     value  Opt\n",
       "rep                                        \n",
       "0     2238       10223  tbar  0.475146  0.5\n",
       "1      938       10093  tbar  0.475002  0.5\n",
       "2      958       10095  tbar  0.475009  0.5\n",
       "3      938       10093  tbar  0.475007  0.5\n",
       "4     1318       10131  tbar  0.475054  0.5\n",
       "5     1298       10129  tbar  0.475030  0.5\n",
       "6     1208       10120  tbar  0.475009  0.5\n",
       "7      878       10087  tbar  0.475002  0.5\n",
       "8     2128       10212  tbar  0.475152  0.5\n",
       "9     3668       10366  tbar  0.475012  0.5"
      ]
     },
     "execution_count": 5,
     "metadata": {},
     "output_type": "execute_result"
    }
   ],
   "source": [
    "RESULTS90[0][:10]"
   ]
  },
  {
   "cell_type": "code",
   "execution_count": 6,
   "metadata": {
    "collapsed": true
   },
   "outputs": [],
   "source": [
    "pfile=open('params.pickle','r')\n",
    "params=pickle.load(pfile)"
   ]
  },
  {
   "cell_type": "code",
   "execution_count": 7,
   "metadata": {
    "collapsed": false
   },
   "outputs": [
    {
     "data": {
      "text/plain": [
       "[{'H2': '0.2', 'OPT': '1', 'mu': '0.001'},\n",
       " {'H2': '0.2', 'OPT': '0.5', 'mu': '0.001'}]"
      ]
     },
     "execution_count": 7,
     "metadata": {},
     "output_type": "execute_result"
    }
   ],
   "source": [
    "params"
   ]
  },
  {
   "cell_type": "code",
   "execution_count": 21,
   "metadata": {
    "collapsed": true
   },
   "outputs": [],
   "source": [
    "pfile.close()\n",
    "pfile=open('outcomes.pickle','r')\n",
    "outcomes=pickle.load(pfile)\n",
    "pfile.close()"
   ]
  },
  {
   "cell_type": "code",
   "execution_count": 22,
   "metadata": {
    "collapsed": false
   },
   "outputs": [],
   "source": [
    "RESULTS90[0]['total_standing']=outcomes[1]['standing']"
   ]
  },
  {
   "cell_type": "code",
   "execution_count": 23,
   "metadata": {
    "collapsed": false
   },
   "outputs": [
    {
     "data": {
      "text/html": [
       "<div>\n",
       "<table border=\"1\" class=\"dataframe\">\n",
       "  <thead>\n",
       "    <tr style=\"text-align: right;\">\n",
       "      <th></th>\n",
       "      <th>index</th>\n",
       "      <th>generation</th>\n",
       "      <th>stat</th>\n",
       "      <th>value</th>\n",
       "      <th>Opt</th>\n",
       "      <th>standing</th>\n",
       "      <th>total_standing</th>\n",
       "    </tr>\n",
       "    <tr>\n",
       "      <th>rep</th>\n",
       "      <th></th>\n",
       "      <th></th>\n",
       "      <th></th>\n",
       "      <th></th>\n",
       "      <th></th>\n",
       "      <th></th>\n",
       "      <th></th>\n",
       "    </tr>\n",
       "  </thead>\n",
       "  <tbody>\n",
       "    <tr>\n",
       "      <th>0</th>\n",
       "      <td>2238</td>\n",
       "      <td>10223</td>\n",
       "      <td>tbar</td>\n",
       "      <td>0.475146</td>\n",
       "      <td>0.5</td>\n",
       "      <td>2</td>\n",
       "      <td>2</td>\n",
       "    </tr>\n",
       "    <tr>\n",
       "      <th>1</th>\n",
       "      <td>938</td>\n",
       "      <td>10093</td>\n",
       "      <td>tbar</td>\n",
       "      <td>0.475002</td>\n",
       "      <td>0.5</td>\n",
       "      <td>0</td>\n",
       "      <td>0</td>\n",
       "    </tr>\n",
       "    <tr>\n",
       "      <th>2</th>\n",
       "      <td>958</td>\n",
       "      <td>10095</td>\n",
       "      <td>tbar</td>\n",
       "      <td>0.475009</td>\n",
       "      <td>0.5</td>\n",
       "      <td>1</td>\n",
       "      <td>1</td>\n",
       "    </tr>\n",
       "    <tr>\n",
       "      <th>3</th>\n",
       "      <td>938</td>\n",
       "      <td>10093</td>\n",
       "      <td>tbar</td>\n",
       "      <td>0.475007</td>\n",
       "      <td>0.5</td>\n",
       "      <td>2</td>\n",
       "      <td>2</td>\n",
       "    </tr>\n",
       "    <tr>\n",
       "      <th>4</th>\n",
       "      <td>1318</td>\n",
       "      <td>10131</td>\n",
       "      <td>tbar</td>\n",
       "      <td>0.475054</td>\n",
       "      <td>0.5</td>\n",
       "      <td>1</td>\n",
       "      <td>1</td>\n",
       "    </tr>\n",
       "  </tbody>\n",
       "</table>\n",
       "</div>"
      ],
      "text/plain": [
       "     index  generation  stat     value  Opt  standing  total_standing\n",
       "rep                                                                  \n",
       "0     2238       10223  tbar  0.475146  0.5         2               2\n",
       "1      938       10093  tbar  0.475002  0.5         0               0\n",
       "2      958       10095  tbar  0.475009  0.5         1               1\n",
       "3      938       10093  tbar  0.475007  0.5         2               2\n",
       "4     1318       10131  tbar  0.475054  0.5         1               1"
      ]
     },
     "execution_count": 23,
     "metadata": {},
     "output_type": "execute_result"
    }
   ],
   "source": [
    "RESULTS90[0].head()"
   ]
  },
  {
   "cell_type": "code",
   "execution_count": 25,
   "metadata": {
    "collapsed": false
   },
   "outputs": [
    {
     "data": {
      "text/html": [
       "<div>\n",
       "<table border=\"1\" class=\"dataframe\">\n",
       "  <thead>\n",
       "    <tr style=\"text-align: right;\">\n",
       "      <th></th>\n",
       "      <th>index</th>\n",
       "      <th>ftime</th>\n",
       "      <th>rep</th>\n",
       "    </tr>\n",
       "  </thead>\n",
       "  <tbody>\n",
       "    <tr>\n",
       "      <th>0</th>\n",
       "      <td>0</td>\n",
       "      <td>13259.0</td>\n",
       "      <td>0.0</td>\n",
       "    </tr>\n",
       "    <tr>\n",
       "      <th>1</th>\n",
       "      <td>1</td>\n",
       "      <td>10249.0</td>\n",
       "      <td>0.0</td>\n",
       "    </tr>\n",
       "    <tr>\n",
       "      <th>2</th>\n",
       "      <td>2</td>\n",
       "      <td>11558.0</td>\n",
       "      <td>2.0</td>\n",
       "    </tr>\n",
       "    <tr>\n",
       "      <th>3</th>\n",
       "      <td>3</td>\n",
       "      <td>10514.0</td>\n",
       "      <td>3.0</td>\n",
       "    </tr>\n",
       "    <tr>\n",
       "      <th>4</th>\n",
       "      <td>4</td>\n",
       "      <td>14516.0</td>\n",
       "      <td>3.0</td>\n",
       "    </tr>\n",
       "  </tbody>\n",
       "</table>\n",
       "</div>"
      ],
      "text/plain": [
       "   index    ftime  rep\n",
       "0      0  13259.0  0.0\n",
       "1      1  10249.0  0.0\n",
       "2      2  11558.0  2.0\n",
       "3      3  10514.0  3.0\n",
       "4      4  14516.0  3.0"
      ]
     },
     "execution_count": 25,
     "metadata": {},
     "output_type": "execute_result"
    }
   ],
   "source": [
    "pd.DataFrame(outcomes[1]['standing_ftimes']).reset_index('rep').head()"
   ]
  },
  {
   "cell_type": "code",
   "execution_count": 26,
   "metadata": {
    "collapsed": false
   },
   "outputs": [
    {
     "data": {
      "text/html": [
       "<div>\n",
       "<table border=\"1\" class=\"dataframe\">\n",
       "  <thead>\n",
       "    <tr style=\"text-align: right;\">\n",
       "      <th></th>\n",
       "      <th>index</th>\n",
       "      <th>flen</th>\n",
       "      <th>rep</th>\n",
       "    </tr>\n",
       "  </thead>\n",
       "  <tbody>\n",
       "    <tr>\n",
       "      <th>0</th>\n",
       "      <td>0</td>\n",
       "      <td>19687.0</td>\n",
       "      <td>0.0</td>\n",
       "    </tr>\n",
       "    <tr>\n",
       "      <th>1</th>\n",
       "      <td>1</td>\n",
       "      <td>11057.0</td>\n",
       "      <td>0.0</td>\n",
       "    </tr>\n",
       "    <tr>\n",
       "      <th>2</th>\n",
       "      <td>2</td>\n",
       "      <td>11102.0</td>\n",
       "      <td>1.0</td>\n",
       "    </tr>\n",
       "    <tr>\n",
       "      <th>3</th>\n",
       "      <td>3</td>\n",
       "      <td>12306.0</td>\n",
       "      <td>1.0</td>\n",
       "    </tr>\n",
       "    <tr>\n",
       "      <th>4</th>\n",
       "      <td>4</td>\n",
       "      <td>10428.0</td>\n",
       "      <td>2.0</td>\n",
       "    </tr>\n",
       "  </tbody>\n",
       "</table>\n",
       "</div>"
      ],
      "text/plain": [
       "   index     flen  rep\n",
       "0      0  19687.0  0.0\n",
       "1      1  11057.0  0.0\n",
       "2      2  11102.0  1.0\n",
       "3      3  12306.0  1.0\n",
       "4      4  10428.0  2.0"
      ]
     },
     "execution_count": 26,
     "metadata": {},
     "output_type": "execute_result"
    }
   ],
   "source": [
    "pd.DataFrame(outcomes[1]['new_ftimes']).reset_index('rep').head()"
   ]
  },
  {
   "cell_type": "code",
   "execution_count": null,
   "metadata": {
    "collapsed": true
   },
   "outputs": [],
   "source": []
  }
 ],
 "metadata": {
  "kernelspec": {
   "display_name": "Python 2",
   "language": "python",
   "name": "python2"
  },
  "language_info": {
   "codemirror_mode": {
    "name": "ipython",
    "version": 2
   },
   "file_extension": ".py",
   "mimetype": "text/x-python",
   "name": "python",
   "nbconvert_exporter": "python",
   "pygments_lexer": "ipython2",
   "version": "2.7.10"
  }
 },
 "nbformat": 4,
 "nbformat_minor": 0
}
