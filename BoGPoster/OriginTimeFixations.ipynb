{
 "cells": [
  {
   "cell_type": "markdown",
   "metadata": {},
   "source": [
    "1. Origin time of fixatons vs effect size\n",
    "2. Origin time of fixations vs time to fixation"
   ]
  },
  {
   "cell_type": "code",
   "execution_count": 1,
   "metadata": {
    "collapsed": false
   },
   "outputs": [
    {
     "name": "stderr",
     "output_type": "stream",
     "text": [
      "/usr/local/lib/python2.7/dist-packages/matplotlib/font_manager.py:273: UserWarning: Matplotlib is building the font cache using fc-list. This may take a moment.\n",
      "  warnings.warn('Matplotlib is building the font cache using fc-list. This may take a moment.')\n"
     ]
    }
   ],
   "source": [
    "%matplotlib inline\n",
    "import feather\n",
    "import matplotlib\n",
    "import matplotlib.colors as colors\n",
    "import matplotlib.pyplot as plt\n",
    "import pandas as pd\n",
    "import numpy as np\n",
    "import math"
   ]
  },
  {
   "cell_type": "code",
   "execution_count": 2,
   "metadata": {
    "collapsed": true
   },
   "outputs": [],
   "source": [
    "x=pd.read_hdf('../H2_0.2_OPT_0.5_mu_0.001.fixations.h5')"
   ]
  },
  {
   "cell_type": "code",
   "execution_count": 3,
   "metadata": {
    "collapsed": true
   },
   "outputs": [],
   "source": [
    "y=pd.read_hdf('../H2_0.2_OPT_1_mu_0.001.fixations.h5')"
   ]
  },
  {
   "cell_type": "code",
   "execution_count": 4,
   "metadata": {
    "collapsed": false
   },
   "outputs": [],
   "source": [
    "x.reset_index(inplace=True,drop=True)\n",
    "y.reset_index(inplace=True,drop=True)"
   ]
  },
  {
   "cell_type": "code",
   "execution_count": 5,
   "metadata": {
    "collapsed": true
   },
   "outputs": [],
   "source": [
    "xmeans=x.groupby('generation').mean()\n",
    "ymeans=y.groupby('generation').mean()"
   ]
  },
  {
   "cell_type": "code",
   "execution_count": 6,
   "metadata": {
    "collapsed": false
   },
   "outputs": [],
   "source": [
    "xmeans.reset_index(inplace=True)\n",
    "ymeans.reset_index(inplace=True)"
   ]
  },
  {
   "cell_type": "code",
   "execution_count": 7,
   "metadata": {
    "collapsed": false
   },
   "outputs": [
    {
     "data": {
      "text/html": [
       "<div>\n",
       "<table border=\"1\" class=\"dataframe\">\n",
       "  <thead>\n",
       "    <tr style=\"text-align: right;\">\n",
       "      <th></th>\n",
       "      <th>generation</th>\n",
       "      <th>esize</th>\n",
       "      <th>freq</th>\n",
       "      <th>origin</th>\n",
       "      <th>pos</th>\n",
       "      <th>rep</th>\n",
       "      <th>age</th>\n",
       "    </tr>\n",
       "  </thead>\n",
       "  <tbody>\n",
       "    <tr>\n",
       "      <th>0</th>\n",
       "      <td>9002</td>\n",
       "      <td>0.018188</td>\n",
       "      <td>0.0005</td>\n",
       "      <td>9002.0</td>\n",
       "      <td>0.877072</td>\n",
       "      <td>76.0</td>\n",
       "      <td>1.0</td>\n",
       "    </tr>\n",
       "    <tr>\n",
       "      <th>1</th>\n",
       "      <td>9003</td>\n",
       "      <td>0.018188</td>\n",
       "      <td>0.0005</td>\n",
       "      <td>9002.0</td>\n",
       "      <td>0.877072</td>\n",
       "      <td>76.0</td>\n",
       "      <td>2.0</td>\n",
       "    </tr>\n",
       "    <tr>\n",
       "      <th>2</th>\n",
       "      <td>9004</td>\n",
       "      <td>0.018188</td>\n",
       "      <td>0.0020</td>\n",
       "      <td>9002.0</td>\n",
       "      <td>0.877072</td>\n",
       "      <td>76.0</td>\n",
       "      <td>3.0</td>\n",
       "    </tr>\n",
       "    <tr>\n",
       "      <th>3</th>\n",
       "      <td>9005</td>\n",
       "      <td>0.018188</td>\n",
       "      <td>0.0035</td>\n",
       "      <td>9002.0</td>\n",
       "      <td>0.877072</td>\n",
       "      <td>76.0</td>\n",
       "      <td>4.0</td>\n",
       "    </tr>\n",
       "    <tr>\n",
       "      <th>4</th>\n",
       "      <td>9006</td>\n",
       "      <td>0.018188</td>\n",
       "      <td>0.0050</td>\n",
       "      <td>9002.0</td>\n",
       "      <td>0.877072</td>\n",
       "      <td>76.0</td>\n",
       "      <td>5.0</td>\n",
       "    </tr>\n",
       "  </tbody>\n",
       "</table>\n",
       "</div>"
      ],
      "text/plain": [
       "   generation     esize    freq  origin       pos   rep  age\n",
       "0        9002  0.018188  0.0005  9002.0  0.877072  76.0  1.0\n",
       "1        9003  0.018188  0.0005  9002.0  0.877072  76.0  2.0\n",
       "2        9004  0.018188  0.0020  9002.0  0.877072  76.0  3.0\n",
       "3        9005  0.018188  0.0035  9002.0  0.877072  76.0  4.0\n",
       "4        9006  0.018188  0.0050  9002.0  0.877072  76.0  5.0"
      ]
     },
     "execution_count": 7,
     "metadata": {},
     "output_type": "execute_result"
    }
   ],
   "source": [
    "xmeans.head()"
   ]
  },
  {
   "cell_type": "code",
   "execution_count": 8,
   "metadata": {
    "collapsed": false
   },
   "outputs": [],
   "source": [
    "xmeans['scaled_time']=pd.Series(xmeans.generation-np.array([10000]*len(xmeans.index),dtype=np.float64))\n",
    "xmeans['scaled_time']/=pd.Series(np.array([1000]*len(xmeans.index),dtype=np.float64))\n",
    "ymeans['scaled_time']=pd.Series(ymeans.generation-np.array([10000]*len(ymeans.index),dtype=np.float64))\n",
    "ymeans['scaled_time']/=pd.Series(np.array([1000]*len(ymeans.index),dtype=np.float64))"
   ]
  },
  {
   "cell_type": "code",
   "execution_count": 9,
   "metadata": {
    "collapsed": false
   },
   "outputs": [
    {
     "data": {
      "text/plain": [
       "<matplotlib.figure.Figure at 0x7f4f69c9e410>"
      ]
     },
     "metadata": {},
     "output_type": "display_data"
    },
    {
     "data": {
      "image/png": "[encoded data removed]",
      "text/plain": [
       "<matplotlib.figure.Figure at 0x7f4f69cbe0d0>"
      ]
     },
     "metadata": {},
     "output_type": "display_data"
    }
   ],
   "source": [
    "matplotlib.rcParams.update({'font.size': 14})\n",
    "matplotlib.rcParams.update({'legend.fontsize': 14})\n",
    "fig=matplotlib.pyplot.gcf()\n",
    "fig.set_size_inches(10,12)\n",
    "plt.figure()\n",
    "plt.plot(xmeans.scaled_time,xmeans.esize,label=r'$P_{opt} = 0.5$',linewidth=2,color='orange')\n",
    "plt.plot(ymeans.scaled_time,ymeans.esize,label=r'$P_{opt} = 1$',linewidth=2,color='blue')\n",
    "plt.vlines(10000,-0.1,0.3)\n",
    "plt.ylim(-0.01,0.3)\n",
    "plt.xlim(-0.5,3)\n",
    "plt.xlabel(\"Origination time of fixation (units of N generations)\",fontsize=14)\n",
    "plt.ylabel(\"Average effect size of fixation\",fontsize=14)\n",
    "plt.legend(title=\"Optimum trait value\")\n",
    "plt.savefig(\"OriginVsEsize.pdf\",bbox_inches=\"tight\")"
   ]
  },
  {
   "cell_type": "markdown",
   "metadata": {},
   "source": [
    "Now, let's deal with problem 2: fixation times."
   ]
  },
  {
   "cell_type": "code",
   "execution_count": 10,
   "metadata": {
    "collapsed": false
   },
   "outputs": [
    {
     "data": {
      "text/html": [
       "<div>\n",
       "<table border=\"1\" class=\"dataframe\">\n",
       "  <thead>\n",
       "    <tr style=\"text-align: right;\">\n",
       "      <th></th>\n",
       "      <th>esize</th>\n",
       "      <th>freq</th>\n",
       "      <th>generation</th>\n",
       "      <th>origin</th>\n",
       "      <th>pos</th>\n",
       "      <th>rep</th>\n",
       "      <th>age</th>\n",
       "    </tr>\n",
       "  </thead>\n",
       "  <tbody>\n",
       "    <tr>\n",
       "      <th>0</th>\n",
       "      <td>0.124055</td>\n",
       "      <td>0.0005</td>\n",
       "      <td>9493</td>\n",
       "      <td>9493</td>\n",
       "      <td>0.636345</td>\n",
       "      <td>0</td>\n",
       "      <td>1.0</td>\n",
       "    </tr>\n",
       "    <tr>\n",
       "      <th>1</th>\n",
       "      <td>0.124055</td>\n",
       "      <td>0.0010</td>\n",
       "      <td>9494</td>\n",
       "      <td>9493</td>\n",
       "      <td>0.636345</td>\n",
       "      <td>0</td>\n",
       "      <td>2.0</td>\n",
       "    </tr>\n",
       "    <tr>\n",
       "      <th>2</th>\n",
       "      <td>0.124055</td>\n",
       "      <td>0.0015</td>\n",
       "      <td>9495</td>\n",
       "      <td>9493</td>\n",
       "      <td>0.636345</td>\n",
       "      <td>0</td>\n",
       "      <td>3.0</td>\n",
       "    </tr>\n",
       "    <tr>\n",
       "      <th>3</th>\n",
       "      <td>0.124055</td>\n",
       "      <td>0.0020</td>\n",
       "      <td>9496</td>\n",
       "      <td>9493</td>\n",
       "      <td>0.636345</td>\n",
       "      <td>0</td>\n",
       "      <td>4.0</td>\n",
       "    </tr>\n",
       "    <tr>\n",
       "      <th>4</th>\n",
       "      <td>0.124055</td>\n",
       "      <td>0.0025</td>\n",
       "      <td>9497</td>\n",
       "      <td>9493</td>\n",
       "      <td>0.636345</td>\n",
       "      <td>0</td>\n",
       "      <td>5.0</td>\n",
       "    </tr>\n",
       "  </tbody>\n",
       "</table>\n",
       "</div>"
      ],
      "text/plain": [
       "      esize    freq  generation  origin       pos  rep  age\n",
       "0  0.124055  0.0005        9493    9493  0.636345    0  1.0\n",
       "1  0.124055  0.0010        9494    9493  0.636345    0  2.0\n",
       "2  0.124055  0.0015        9495    9493  0.636345    0  3.0\n",
       "3  0.124055  0.0020        9496    9493  0.636345    0  4.0\n",
       "4  0.124055  0.0025        9497    9493  0.636345    0  5.0"
      ]
     },
     "execution_count": 10,
     "metadata": {},
     "output_type": "execute_result"
    }
   ],
   "source": [
    "x.head()"
   ]
  },
  {
   "cell_type": "code",
   "execution_count": 30,
   "metadata": {
    "collapsed": true
   },
   "outputs": [],
   "source": [
    "xc=x.groupby(['pos','esize','origin','rep']).agg(['count'])"
   ]
  },
  {
   "cell_type": "code",
   "execution_count": 31,
   "metadata": {
    "collapsed": false
   },
   "outputs": [
    {
     "data": {
      "text/html": [
       "<div>\n",
       "<table border=\"1\" class=\"dataframe\">\n",
       "  <thead>\n",
       "    <tr>\n",
       "      <th></th>\n",
       "      <th></th>\n",
       "      <th></th>\n",
       "      <th></th>\n",
       "      <th>freq</th>\n",
       "      <th>generation</th>\n",
       "      <th>age</th>\n",
       "    </tr>\n",
       "    <tr>\n",
       "      <th></th>\n",
       "      <th></th>\n",
       "      <th></th>\n",
       "      <th></th>\n",
       "      <th>count</th>\n",
       "      <th>count</th>\n",
       "      <th>count</th>\n",
       "    </tr>\n",
       "    <tr>\n",
       "      <th>pos</th>\n",
       "      <th>esize</th>\n",
       "      <th>origin</th>\n",
       "      <th>rep</th>\n",
       "      <th></th>\n",
       "      <th></th>\n",
       "      <th></th>\n",
       "    </tr>\n",
       "  </thead>\n",
       "  <tbody>\n",
       "    <tr>\n",
       "      <th>0.000180</th>\n",
       "      <th>0.158032</th>\n",
       "      <th>9949</th>\n",
       "      <th>10</th>\n",
       "      <td>432</td>\n",
       "      <td>432</td>\n",
       "      <td>432</td>\n",
       "    </tr>\n",
       "    <tr>\n",
       "      <th>0.000465</th>\n",
       "      <th>0.014121</th>\n",
       "      <th>12231</th>\n",
       "      <th>815</th>\n",
       "      <td>2674</td>\n",
       "      <td>2674</td>\n",
       "      <td>2674</td>\n",
       "    </tr>\n",
       "    <tr>\n",
       "      <th>0.000642</th>\n",
       "      <th>0.041951</th>\n",
       "      <th>17183</th>\n",
       "      <th>501</th>\n",
       "      <td>1136</td>\n",
       "      <td>1136</td>\n",
       "      <td>1136</td>\n",
       "    </tr>\n",
       "    <tr>\n",
       "      <th>0.000755</th>\n",
       "      <th>0.046904</th>\n",
       "      <th>11769</th>\n",
       "      <th>556</th>\n",
       "      <td>2825</td>\n",
       "      <td>2825</td>\n",
       "      <td>2825</td>\n",
       "    </tr>\n",
       "    <tr>\n",
       "      <th>0.000838</th>\n",
       "      <th>-0.023535</th>\n",
       "      <th>12697</th>\n",
       "      <th>124</th>\n",
       "      <td>2961</td>\n",
       "      <td>2961</td>\n",
       "      <td>2961</td>\n",
       "    </tr>\n",
       "  </tbody>\n",
       "</table>\n",
       "</div>"
      ],
      "text/plain": [
       "                               freq generation   age\n",
       "                              count      count count\n",
       "pos      esize     origin rep                       \n",
       "0.000180  0.158032 9949   10    432        432   432\n",
       "0.000465  0.014121 12231  815  2674       2674  2674\n",
       "0.000642  0.041951 17183  501  1136       1136  1136\n",
       "0.000755  0.046904 11769  556  2825       2825  2825\n",
       "0.000838 -0.023535 12697  124  2961       2961  2961"
      ]
     },
     "execution_count": 31,
     "metadata": {},
     "output_type": "execute_result"
    }
   ],
   "source": [
    "xc.head()"
   ]
  },
  {
   "cell_type": "code",
   "execution_count": 32,
   "metadata": {
    "collapsed": true
   },
   "outputs": [],
   "source": [
    "xc.reset_index(inplace=True)"
   ]
  },
  {
   "cell_type": "code",
   "execution_count": 33,
   "metadata": {
    "collapsed": false
   },
   "outputs": [
    {
     "data": {
      "text/html": [
       "<div>\n",
       "<table border=\"1\" class=\"dataframe\">\n",
       "  <thead>\n",
       "    <tr>\n",
       "      <th></th>\n",
       "      <th>pos</th>\n",
       "      <th>esize</th>\n",
       "      <th>origin</th>\n",
       "      <th>rep</th>\n",
       "      <th>freq</th>\n",
       "      <th>generation</th>\n",
       "      <th>age</th>\n",
       "    </tr>\n",
       "    <tr>\n",
       "      <th></th>\n",
       "      <th></th>\n",
       "      <th></th>\n",
       "      <th></th>\n",
       "      <th></th>\n",
       "      <th>count</th>\n",
       "      <th>count</th>\n",
       "      <th>count</th>\n",
       "    </tr>\n",
       "  </thead>\n",
       "  <tbody>\n",
       "    <tr>\n",
       "      <th>0</th>\n",
       "      <td>0.000180</td>\n",
       "      <td>0.158032</td>\n",
       "      <td>9949</td>\n",
       "      <td>10</td>\n",
       "      <td>432</td>\n",
       "      <td>432</td>\n",
       "      <td>432</td>\n",
       "    </tr>\n",
       "    <tr>\n",
       "      <th>1</th>\n",
       "      <td>0.000465</td>\n",
       "      <td>0.014121</td>\n",
       "      <td>12231</td>\n",
       "      <td>815</td>\n",
       "      <td>2674</td>\n",
       "      <td>2674</td>\n",
       "      <td>2674</td>\n",
       "    </tr>\n",
       "    <tr>\n",
       "      <th>2</th>\n",
       "      <td>0.000642</td>\n",
       "      <td>0.041951</td>\n",
       "      <td>17183</td>\n",
       "      <td>501</td>\n",
       "      <td>1136</td>\n",
       "      <td>1136</td>\n",
       "      <td>1136</td>\n",
       "    </tr>\n",
       "    <tr>\n",
       "      <th>3</th>\n",
       "      <td>0.000755</td>\n",
       "      <td>0.046904</td>\n",
       "      <td>11769</td>\n",
       "      <td>556</td>\n",
       "      <td>2825</td>\n",
       "      <td>2825</td>\n",
       "      <td>2825</td>\n",
       "    </tr>\n",
       "    <tr>\n",
       "      <th>4</th>\n",
       "      <td>0.000838</td>\n",
       "      <td>-0.023535</td>\n",
       "      <td>12697</td>\n",
       "      <td>124</td>\n",
       "      <td>2961</td>\n",
       "      <td>2961</td>\n",
       "      <td>2961</td>\n",
       "    </tr>\n",
       "  </tbody>\n",
       "</table>\n",
       "</div>"
      ],
      "text/plain": [
       "        pos     esize origin  rep  freq generation   age\n",
       "                                  count      count count\n",
       "0  0.000180  0.158032   9949   10   432        432   432\n",
       "1  0.000465  0.014121  12231  815  2674       2674  2674\n",
       "2  0.000642  0.041951  17183  501  1136       1136  1136\n",
       "3  0.000755  0.046904  11769  556  2825       2825  2825\n",
       "4  0.000838 -0.023535  12697  124  2961       2961  2961"
      ]
     },
     "execution_count": 33,
     "metadata": {},
     "output_type": "execute_result"
    }
   ],
   "source": [
    "xc.head()"
   ]
  },
  {
   "cell_type": "code",
   "execution_count": 44,
   "metadata": {
    "collapsed": false
   },
   "outputs": [],
   "source": [
    "xcg=xc.groupby('origin').agg('mean')"
   ]
  },
  {
   "cell_type": "code",
   "execution_count": 45,
   "metadata": {
    "collapsed": false
   },
   "outputs": [
    {
     "data": {
      "text/html": [
       "<div>\n",
       "<table border=\"1\" class=\"dataframe\">\n",
       "  <thead>\n",
       "    <tr>\n",
       "      <th></th>\n",
       "      <th>pos</th>\n",
       "      <th>esize</th>\n",
       "      <th>rep</th>\n",
       "      <th>freq</th>\n",
       "      <th>generation</th>\n",
       "      <th>age</th>\n",
       "    </tr>\n",
       "    <tr>\n",
       "      <th></th>\n",
       "      <th></th>\n",
       "      <th></th>\n",
       "      <th></th>\n",
       "      <th>count</th>\n",
       "      <th>count</th>\n",
       "      <th>count</th>\n",
       "    </tr>\n",
       "    <tr>\n",
       "      <th>origin</th>\n",
       "      <th></th>\n",
       "      <th></th>\n",
       "      <th></th>\n",
       "      <th></th>\n",
       "      <th></th>\n",
       "      <th></th>\n",
       "    </tr>\n",
       "  </thead>\n",
       "  <tbody>\n",
       "    <tr>\n",
       "      <th>9002</th>\n",
       "      <td>0.877072</td>\n",
       "      <td>0.018188</td>\n",
       "      <td>76.0</td>\n",
       "      <td>1982.0</td>\n",
       "      <td>1982.0</td>\n",
       "      <td>1982.0</td>\n",
       "    </tr>\n",
       "    <tr>\n",
       "      <th>9011</th>\n",
       "      <td>0.781687</td>\n",
       "      <td>-0.029600</td>\n",
       "      <td>124.0</td>\n",
       "      <td>4533.0</td>\n",
       "      <td>4533.0</td>\n",
       "      <td>4533.0</td>\n",
       "    </tr>\n",
       "    <tr>\n",
       "      <th>9028</th>\n",
       "      <td>0.321720</td>\n",
       "      <td>0.004522</td>\n",
       "      <td>146.0</td>\n",
       "      <td>3236.0</td>\n",
       "      <td>3236.0</td>\n",
       "      <td>3236.0</td>\n",
       "    </tr>\n",
       "    <tr>\n",
       "      <th>9029</th>\n",
       "      <td>0.684199</td>\n",
       "      <td>0.048421</td>\n",
       "      <td>121.0</td>\n",
       "      <td>1383.0</td>\n",
       "      <td>1383.0</td>\n",
       "      <td>1383.0</td>\n",
       "    </tr>\n",
       "    <tr>\n",
       "      <th>9030</th>\n",
       "      <td>0.886848</td>\n",
       "      <td>0.012139</td>\n",
       "      <td>87.0</td>\n",
       "      <td>8350.0</td>\n",
       "      <td>8350.0</td>\n",
       "      <td>8350.0</td>\n",
       "    </tr>\n",
       "    <tr>\n",
       "      <th>9040</th>\n",
       "      <td>0.444194</td>\n",
       "      <td>-0.017387</td>\n",
       "      <td>757.0</td>\n",
       "      <td>4572.5</td>\n",
       "      <td>4572.5</td>\n",
       "      <td>4572.5</td>\n",
       "    </tr>\n",
       "    <tr>\n",
       "      <th>9041</th>\n",
       "      <td>0.978361</td>\n",
       "      <td>-0.017394</td>\n",
       "      <td>512.5</td>\n",
       "      <td>1649.0</td>\n",
       "      <td>1649.0</td>\n",
       "      <td>1649.0</td>\n",
       "    </tr>\n",
       "    <tr>\n",
       "      <th>9045</th>\n",
       "      <td>0.334274</td>\n",
       "      <td>0.067859</td>\n",
       "      <td>2.0</td>\n",
       "      <td>2514.0</td>\n",
       "      <td>2514.0</td>\n",
       "      <td>2514.0</td>\n",
       "    </tr>\n",
       "    <tr>\n",
       "      <th>9050</th>\n",
       "      <td>0.892020</td>\n",
       "      <td>0.025010</td>\n",
       "      <td>1020.0</td>\n",
       "      <td>3567.0</td>\n",
       "      <td>3567.0</td>\n",
       "      <td>3567.0</td>\n",
       "    </tr>\n",
       "    <tr>\n",
       "      <th>9053</th>\n",
       "      <td>0.232057</td>\n",
       "      <td>0.070536</td>\n",
       "      <td>633.0</td>\n",
       "      <td>1759.0</td>\n",
       "      <td>1759.0</td>\n",
       "      <td>1759.0</td>\n",
       "    </tr>\n",
       "  </tbody>\n",
       "</table>\n",
       "</div>"
      ],
      "text/plain": [
       "             pos     esize     rep    freq generation     age\n",
       "                                     count      count   count\n",
       "origin                                                       \n",
       "9002    0.877072  0.018188    76.0  1982.0     1982.0  1982.0\n",
       "9011    0.781687 -0.029600   124.0  4533.0     4533.0  4533.0\n",
       "9028    0.321720  0.004522   146.0  3236.0     3236.0  3236.0\n",
       "9029    0.684199  0.048421   121.0  1383.0     1383.0  1383.0\n",
       "9030    0.886848  0.012139    87.0  8350.0     8350.0  8350.0\n",
       "9040    0.444194 -0.017387   757.0  4572.5     4572.5  4572.5\n",
       "9041    0.978361 -0.017394   512.5  1649.0     1649.0  1649.0\n",
       "9045    0.334274  0.067859     2.0  2514.0     2514.0  2514.0\n",
       "9050    0.892020  0.025010  1020.0  3567.0     3567.0  3567.0\n",
       "9053    0.232057  0.070536   633.0  1759.0     1759.0  1759.0"
      ]
     },
     "execution_count": 45,
     "metadata": {},
     "output_type": "execute_result"
    }
   ],
   "source": [
    "xcg[:10]"
   ]
  },
  {
   "cell_type": "code",
   "execution_count": 47,
   "metadata": {
    "collapsed": false
   },
   "outputs": [],
   "source": [
    "xcg.reset_index(inplace=True)"
   ]
  },
  {
   "cell_type": "code",
   "execution_count": 48,
   "metadata": {
    "collapsed": false
   },
   "outputs": [
    {
     "data": {
      "text/html": [
       "<div>\n",
       "<table border=\"1\" class=\"dataframe\">\n",
       "  <thead>\n",
       "    <tr>\n",
       "      <th></th>\n",
       "      <th>origin</th>\n",
       "      <th>pos</th>\n",
       "      <th>esize</th>\n",
       "      <th>rep</th>\n",
       "      <th>freq</th>\n",
       "      <th>generation</th>\n",
       "      <th>age</th>\n",
       "    </tr>\n",
       "    <tr>\n",
       "      <th></th>\n",
       "      <th></th>\n",
       "      <th></th>\n",
       "      <th></th>\n",
       "      <th></th>\n",
       "      <th>count</th>\n",
       "      <th>count</th>\n",
       "      <th>count</th>\n",
       "    </tr>\n",
       "  </thead>\n",
       "  <tbody>\n",
       "    <tr>\n",
       "      <th>0</th>\n",
       "      <td>9002</td>\n",
       "      <td>0.877072</td>\n",
       "      <td>0.018188</td>\n",
       "      <td>76.0</td>\n",
       "      <td>1982.0</td>\n",
       "      <td>1982.0</td>\n",
       "      <td>1982.0</td>\n",
       "    </tr>\n",
       "    <tr>\n",
       "      <th>1</th>\n",
       "      <td>9011</td>\n",
       "      <td>0.781687</td>\n",
       "      <td>-0.029600</td>\n",
       "      <td>124.0</td>\n",
       "      <td>4533.0</td>\n",
       "      <td>4533.0</td>\n",
       "      <td>4533.0</td>\n",
       "    </tr>\n",
       "    <tr>\n",
       "      <th>2</th>\n",
       "      <td>9028</td>\n",
       "      <td>0.321720</td>\n",
       "      <td>0.004522</td>\n",
       "      <td>146.0</td>\n",
       "      <td>3236.0</td>\n",
       "      <td>3236.0</td>\n",
       "      <td>3236.0</td>\n",
       "    </tr>\n",
       "    <tr>\n",
       "      <th>3</th>\n",
       "      <td>9029</td>\n",
       "      <td>0.684199</td>\n",
       "      <td>0.048421</td>\n",
       "      <td>121.0</td>\n",
       "      <td>1383.0</td>\n",
       "      <td>1383.0</td>\n",
       "      <td>1383.0</td>\n",
       "    </tr>\n",
       "    <tr>\n",
       "      <th>4</th>\n",
       "      <td>9030</td>\n",
       "      <td>0.886848</td>\n",
       "      <td>0.012139</td>\n",
       "      <td>87.0</td>\n",
       "      <td>8350.0</td>\n",
       "      <td>8350.0</td>\n",
       "      <td>8350.0</td>\n",
       "    </tr>\n",
       "    <tr>\n",
       "      <th>5</th>\n",
       "      <td>9040</td>\n",
       "      <td>0.444194</td>\n",
       "      <td>-0.017387</td>\n",
       "      <td>757.0</td>\n",
       "      <td>4572.5</td>\n",
       "      <td>4572.5</td>\n",
       "      <td>4572.5</td>\n",
       "    </tr>\n",
       "    <tr>\n",
       "      <th>6</th>\n",
       "      <td>9041</td>\n",
       "      <td>0.978361</td>\n",
       "      <td>-0.017394</td>\n",
       "      <td>512.5</td>\n",
       "      <td>1649.0</td>\n",
       "      <td>1649.0</td>\n",
       "      <td>1649.0</td>\n",
       "    </tr>\n",
       "    <tr>\n",
       "      <th>7</th>\n",
       "      <td>9045</td>\n",
       "      <td>0.334274</td>\n",
       "      <td>0.067859</td>\n",
       "      <td>2.0</td>\n",
       "      <td>2514.0</td>\n",
       "      <td>2514.0</td>\n",
       "      <td>2514.0</td>\n",
       "    </tr>\n",
       "    <tr>\n",
       "      <th>8</th>\n",
       "      <td>9050</td>\n",
       "      <td>0.892020</td>\n",
       "      <td>0.025010</td>\n",
       "      <td>1020.0</td>\n",
       "      <td>3567.0</td>\n",
       "      <td>3567.0</td>\n",
       "      <td>3567.0</td>\n",
       "    </tr>\n",
       "    <tr>\n",
       "      <th>9</th>\n",
       "      <td>9053</td>\n",
       "      <td>0.232057</td>\n",
       "      <td>0.070536</td>\n",
       "      <td>633.0</td>\n",
       "      <td>1759.0</td>\n",
       "      <td>1759.0</td>\n",
       "      <td>1759.0</td>\n",
       "    </tr>\n",
       "  </tbody>\n",
       "</table>\n",
       "</div>"
      ],
      "text/plain": [
       "  origin       pos     esize     rep    freq generation     age\n",
       "                                       count      count   count\n",
       "0   9002  0.877072  0.018188    76.0  1982.0     1982.0  1982.0\n",
       "1   9011  0.781687 -0.029600   124.0  4533.0     4533.0  4533.0\n",
       "2   9028  0.321720  0.004522   146.0  3236.0     3236.0  3236.0\n",
       "3   9029  0.684199  0.048421   121.0  1383.0     1383.0  1383.0\n",
       "4   9030  0.886848  0.012139    87.0  8350.0     8350.0  8350.0\n",
       "5   9040  0.444194 -0.017387   757.0  4572.5     4572.5  4572.5\n",
       "6   9041  0.978361 -0.017394   512.5  1649.0     1649.0  1649.0\n",
       "7   9045  0.334274  0.067859     2.0  2514.0     2514.0  2514.0\n",
       "8   9050  0.892020  0.025010  1020.0  3567.0     3567.0  3567.0\n",
       "9   9053  0.232057  0.070536   633.0  1759.0     1759.0  1759.0"
      ]
     },
     "execution_count": 48,
     "metadata": {},
     "output_type": "execute_result"
    }
   ],
   "source": [
    "xcg[:10]"
   ]
  },
  {
   "cell_type": "code",
   "execution_count": 50,
   "metadata": {
    "collapsed": false
   },
   "outputs": [
    {
     "data": {
      "text/plain": [
       "<matplotlib.axes._subplots.AxesSubplot at 0x7f6504fd0dd0>"
      ]
     },
     "execution_count": 50,
     "metadata": {},
     "output_type": "execute_result"
    },
    {
     "data": {
      "image/png": "[encoded data removed]",
      "text/plain": [
       "<matplotlib.figure.Figure at 0x7f650565a350>"
      ]
     },
     "metadata": {},
     "output_type": "display_data"
    }
   ],
   "source": [
    "#This will need binning...\n",
    "xcg.plot(x='origin',y='freq')"
   ]
  },
  {
   "cell_type": "code",
   "execution_count": 51,
   "metadata": {
    "collapsed": false
   },
   "outputs": [
    {
     "data": {
      "text/plain": [
       "1643"
      ]
     },
     "execution_count": 51,
     "metadata": {},
     "output_type": "execute_result"
    }
   ],
   "source": [
    "len(xcg.index)"
   ]
  },
  {
   "cell_type": "code",
   "execution_count": 52,
   "metadata": {
    "collapsed": false
   },
   "outputs": [
    {
     "data": {
      "text/plain": [
       "18474"
      ]
     },
     "execution_count": 52,
     "metadata": {},
     "output_type": "execute_result"
    }
   ],
   "source": [
    "xcg.origin.max()"
   ]
  },
  {
   "cell_type": "code",
   "execution_count": 53,
   "metadata": {
    "collapsed": false
   },
   "outputs": [
    {
     "data": {
      "text/plain": [
       "2863"
      ]
     },
     "execution_count": 53,
     "metadata": {},
     "output_type": "execute_result"
    }
   ],
   "source": [
    "len(xc.index)"
   ]
  },
  {
   "cell_type": "code",
   "execution_count": 54,
   "metadata": {
    "collapsed": false
   },
   "outputs": [
    {
     "data": {
      "text/plain": [
       "10992"
      ]
     },
     "execution_count": 54,
     "metadata": {},
     "output_type": "execute_result"
    }
   ],
   "source": [
    "len(xmeans.index)"
   ]
  }
 ],
 "metadata": {
  "kernelspec": {
   "display_name": "Python 2",
   "language": "python",
   "name": "python2"
  },
  "language_info": {
   "codemirror_mode": {
    "name": "ipython",
    "version": 2
   },
   "file_extension": ".py",
   "mimetype": "text/x-python",
   "name": "python",
   "nbconvert_exporter": "python",
   "pygments_lexer": "ipython2",
   "version": "2.7.10"
  }
 },
 "nbformat": 4,
 "nbformat_minor": 0
}
