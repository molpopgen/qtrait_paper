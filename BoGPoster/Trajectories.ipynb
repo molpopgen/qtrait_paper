{
 "cells": [
  {
   "cell_type": "code",
   "execution_count": 1,
   "metadata": {
    "collapsed": false
   },
   "outputs": [
    {
     "name": "stderr",
     "output_type": "stream",
     "text": [
      "/usr/local/lib/python2.7/dist-packages/matplotlib/font_manager.py:273: UserWarning: Matplotlib is building the font cache using fc-list. This may take a moment.\n",
      "  warnings.warn('Matplotlib is building the font cache using fc-list. This may take a moment.')\n"
     ]
    }
   ],
   "source": [
    "%matplotlib inline\n",
    "import feather\n",
    "import matplotlib\n",
    "import matplotlib.colors as colors\n",
    "import matplotlib.pyplot as plt\n",
    "import pandas as pd\n",
    "import numpy as np\n",
    "import math"
   ]
  },
  {
   "cell_type": "code",
   "execution_count": 2,
   "metadata": {
    "collapsed": true
   },
   "outputs": [],
   "source": [
    "#Read in mutation frequency trajectories for this replicate, which is actually replicate 0\n",
    "data=feather.read_dataframe('../H2_0.2_OPT_0.5_mu_0.001.traj.rep1.feather')\n",
    "data['scaled_time']=pd.Series(data.generation-pd.Series(np.array([10000.0]*len(data.index),dtype=np.float64)))\n",
    "data['scaled_time'] /= pd.Series(np.array([1000.0]*len(data.index),dtype=np.float64))\n",
    "#Add in a scaled time column"
   ]
  },
  {
   "cell_type": "code",
   "execution_count": 3,
   "metadata": {
    "collapsed": false
   },
   "outputs": [],
   "source": [
    "#Collect into groups\n",
    "g=data.groupby([data.esize,data.origin,data.pos])"
   ]
  },
  {
   "cell_type": "code",
   "execution_count": 4,
   "metadata": {
    "collapsed": false
   },
   "outputs": [],
   "source": [
    "#Filter groups into new pd.DF based on fixed vs. lost, then re-group\n",
    "fixations=g.filter(lambda x:x['freq'].max()==1.0 and x['origin'].max() >= 9000 and x['origin'].max() <=15000).groupby(['esize','origin','pos'])\n",
    "losses=g.filter(lambda x:len(x['freq'])>=5 and x['freq'].max()>=0.1 and x['freq'].max()<1.0).groupby(['esize','origin','pos'])"
   ]
  },
  {
   "cell_type": "code",
   "execution_count": 5,
   "metadata": {
    "collapsed": false
   },
   "outputs": [],
   "source": [
    "#Read in the popstats\n",
    "pstats=feather.read_dataframe('../H2_0.2_OPT_0.5_mu_0.001.popstats.feather')"
   ]
  },
  {
   "cell_type": "code",
   "execution_count": 6,
   "metadata": {
    "collapsed": false
   },
   "outputs": [],
   "source": [
    "#Convert generations into g/N, with time 0 = time of optimum shift\n",
    "pstats['scaled_time']=pd.Series((pstats.generation-pd.Series(np.array([10000.0]*len(pstats.index),dtype=np.float64))))\n",
    "pstats['scaled_time'] /= pd.Series(np.array([1000.0]*len(pstats.index),dtype=np.float64))"
   ]
  },
  {
   "cell_type": "code",
   "execution_count": 7,
   "metadata": {
    "collapsed": false
   },
   "outputs": [],
   "source": [
    "pstatsRep0=pstats.groupby(['rep']).filter(lambda x:x['rep'].max()==0) #Pull out data for replicate 0.  max() is a hack..."
   ]
  },
  {
   "cell_type": "code",
   "execution_count": null,
   "metadata": {
    "collapsed": false
   },
   "outputs": [
    {
     "name": "stdout",
     "output_type": "stream",
     "text": [
      "0.0100408222715\n",
      "0.00217541570107\n",
      "0.00768544232512\n"
     ]
    }
   ],
   "source": [
    "# matplotlib.rc('font', family='sans-serif') \n",
    "#matplotlib.rc('font', serif='Helvetica') \n",
    "#matplotlib.rc('text', usetex='false') \n",
    "matplotlib.rcParams.update({'font.size': 18})\n",
    "matplotlib.rcParams.update({'legend.fontsize': 14})\n",
    "fig=matplotlib.pyplot.gcf()\n",
    "fig.set_size_inches(20, 18)\n",
    "plt.plot(dpi=300)\n",
    "\n",
    "##SORT FIXATIONS BY ORIGIN TIME\n",
    "FIXATIONS=[]\n",
    "for i in fixations.groups:\n",
    "    fix_i = fixations.get_group(i)\n",
    "    FIXATIONS.append(fix_i)\n",
    "FIXATIONS=sorted(FIXATIONS,key = lambda F : F.origin.min())\n",
    "#plot fixations\n",
    "FSTYLES=['solid','dashed','solid']  #hand-coded hack\n",
    "FSTYLE=0\n",
    "for fix_i in FIXATIONS:\n",
    "    #fix_i=fixations.get_group(i)\n",
    "    fix_color=\"red\"\n",
    "    fix_alpha=0.25\n",
    "    fix_style=FSTYLES[FSTYLE]\n",
    "    if fix_i.origin.min()>10000:\n",
    "        fix_color='blue'\n",
    "        fix_alpha=1.0\n",
    "        fix_style='solid'\n",
    "    else:\n",
    "        FSTYLE+=1\n",
    "    esize=fix_i.esize.mean()\n",
    "    origin=fix_i.origin.mean()\n",
    "    ##Do a super-dirty calculation of s:\n",
    "    ftime = len(fix_i.freq)\n",
    "    s = -1.0*math.log(1.0/2000.0)/(float(ftime))\n",
    "    print(s)\n",
    "    plt.plot(fix_i.scaled_time,fix_i.freq,color=fix_color,\n",
    "             alpha=0.75,\n",
    "             linestyle=fix_style,\n",
    "             linewidth=2,\n",
    "             label=r'$e = $'+'{0:.2f}'.format(esize)+\n",
    "             r', $o = $'+'{0:0.2f}'.format((origin-1e4)/1e3))\n",
    "    \n",
    "#Now, deal with losses\n",
    "#We will collect them into a list, for sorting\n",
    "#I really wish I could just sort the groups...\n",
    "LOSSES=[]\n",
    "for i in losses.groups:\n",
    "    losses_i=losses.get_group(i)\n",
    "    if losses_i.origin.max() >= 9000 and losses_i.origin.max() < 15000:\n",
    "        LOSSES.append(losses_i)\n",
    "        \n",
    "LOSSES=sorted(LOSSES,key = lambda LI: LI.origin.min()) #Sort base on origin time, .min is again a hack\n",
    "for i in LOSSES:\n",
    "    esize=i.esize.mean()\n",
    "    origin=i.origin.mean()\n",
    "    plt.plot(i.scaled_time,i.freq,\n",
    "             linewidth=1.5,\n",
    "             alpha=0.5,label=r'$e = $'+'{0:0.2f}'.format(esize)+r', $o = $'+'{0:0.2f}'.format((origin-1e4)/1e3))\n",
    "    \n",
    "#PLot mean trait value\n",
    "plt.plot(pstatsRep0.scaled_time[pstatsRep0.stat=='tbar'],\n",
    "         pstatsRep0.value[pstatsRep0.stat=='tbar'],\n",
    "             color='black',alpha=0.5,label=\"Mean trait value\")\n",
    "#10xVG, so that it shows up\n",
    "plt.plot(pstatsRep0.scaled_time[pstatsRep0.stat=='tbar'],\n",
    "         10.0*pstatsRep0.value[pstatsRep0.stat=='VG'],\n",
    "             color='purple',linestyle='solid',linewidth=2.5,alpha=1,label=r'$10 \\times V(G)$')\n",
    "plt.xlim(-1,5)\n",
    "plt.ylim(-0.05,1)\n",
    "plt.text(-0.4,0.9,'Soft sweep,\\n'+r'$e = 0.12,$'+'\\n'+r'$o = -0.51$'+',\\n'+r'$s\\approx 0.01$')\n",
    "plt.text(0.375,0.9,'Hard sweep,\\n'+r'$e = 0.09,$'+'\\n'+r'$o = 0.07$'+',\\n'+r'$s\\approx 0.008$')\n",
    "plt.text(3.3,0.9,'Soft sweep,\\n'+r'$e = 0.06$,'+'\\n'+r'$o = -0.23$'+',\\n'+r'$s\\approx 0.002$')\n",
    "plt.xlabel(\"Time since optimum shift (units of N generations)\")\n",
    "plt.ylabel(\"Mutation frequency\")\n",
    "plt.hlines(0.35,0.75,3.5)\n",
    "plt.vlines(0.75,0.325,0.35)\n",
    "plt.vlines(3.5,0.325,0.35)\n",
    "plt.text(0.75,0.365,\"After optimum is reached, \"+\n",
    "         \"there is a period of long-lived mutations\\naffecting fitness. \"+\n",
    "         \"Genetic load is getting sorted out.\",fontsize=14)\n",
    "plt.vlines(3.3,0.475,0.525)\n",
    "ax=plt.axes()\n",
    "ax.arrow(3.3,0.5,1.5,0)\n",
    "plt.legend(bbox_to_anchor=(1.175,0.9),ncol=1,title=r'$e = \\mathrm{effect\\ size}$,'+'\\n'+ r'$o = \\mathrm{origination\\ time}$')\n",
    "plt.text(3.325,0.445,\"Optimum slightly over-shot,\\n\"+r'$G=2\\sum_i e_i = 0.54$'+' due to sweeps.',fontsize=14)\n",
    "plt.savefig(\"trajectories.pdf\",bbox_inches='tight')"
   ]
  },
  {
   "cell_type": "code",
   "execution_count": null,
   "metadata": {
    "collapsed": false
   },
   "outputs": [],
   "source": [
    "#Now, kinda lame, but let's do a zoom-in on the very early dynamics\n",
    "# matplotlib.rc('font', family='sans-serif') \n",
    "#matplotlib.rc('font', serif='Helvetica') \n",
    "#matplotlib.rc('text', usetex='false') \n",
    "fig=matplotlib.pyplot.gcf()\n",
    "fig.set_size_inches(20, 18)\n",
    "plt.plot(dpi=300)\n",
    "\n",
    "##SORT FIXATIONS BY ORIGIN TIME\n",
    "FIXATIONS=[]\n",
    "for i in fixations.groups:\n",
    "    fix_i = fixations.get_group(i)\n",
    "    FIXATIONS.append(fix_i)\n",
    "FIXATIONS=sorted(FIXATIONS,key = lambda F : F.origin.min())\n",
    "#plot fixations\n",
    "FSTYLES=['solid','dashed','solid']  #hand-coded hack\n",
    "FSTYLE=0\n",
    "for fix_i in FIXATIONS:\n",
    "    #fix_i=fixations.get_group(i)\n",
    "    fix_color=\"red\"\n",
    "    fix_alpha=0.25\n",
    "    fix_style=FSTYLES[FSTYLE]\n",
    "    if fix_i.origin.min()>10000:\n",
    "        fix_color='blue'\n",
    "        fix_alpha=1.0\n",
    "        fix_style='solid'\n",
    "    else:\n",
    "        FSTYLE+=1\n",
    "    esize=fix_i.esize.mean()\n",
    "    origin=fix_i.origin.mean()\n",
    "    plt.plot(fix_i.scaled_time,fix_i.freq,color=fix_color,\n",
    "             alpha=0.75,\n",
    "             linestyle=fix_style,\n",
    "             linewidth=2,\n",
    "             label=r'$e = $'+'{0:.2f}'.format(esize)+\n",
    "             r', $o = $'+'{0:0.2f}'.format((origin-1e4)/1e3))\n",
    "    \n",
    "#Now, deal with losses\n",
    "#We will collect them into a list, for sorting\n",
    "#I really wish I could just sort the groups...\n",
    "LOSSES=[]\n",
    "for i in losses.groups:\n",
    "    losses_i=losses.get_group(i)\n",
    "    if losses_i.origin.max() >= 9000 and losses_i.origin.max() < 10500:\n",
    "        LOSSES.append(losses_i)\n",
    "        \n",
    "LOSSES=sorted(LOSSES,key = lambda LI: LI.origin.min()) #Sort base on origin time, .min is again a hack\n",
    "for i in LOSSES:\n",
    "    esize=i.esize.mean()\n",
    "    origin=i.origin.mean()\n",
    "    plt.plot(i.scaled_time,i.freq,\n",
    "             linewidth=1.5,\n",
    "             alpha=0.5,label=r'$e = $'+'{0:0.2f}'.format(esize)+r', $o = $'+'{0:0.2f}'.format((origin-1e4)/1e3))\n",
    "    \n",
    "#PLot mean trait value\n",
    "plt.plot(pstatsRep0.scaled_time[pstatsRep0.stat=='tbar'],\n",
    "         pstatsRep0.value[pstatsRep0.stat=='tbar'],\n",
    "             color='black',alpha=0.5,label=\"Mean trait value\")\n",
    "#10xVG, so that it shows up\n",
    "plt.plot(pstatsRep0.scaled_time[pstatsRep0.stat=='tbar'],\n",
    "         10.0*pstatsRep0.value[pstatsRep0.stat=='VG'],\n",
    "             color='purple',linestyle='solid',linewidth=2.5,alpha=1,label=r'$10 \\times V(G)$')\n",
    "plt.xlim(-0.5,0.6)\n",
    "plt.ylim(-0.05,1)\n",
    "#plt.text(-0.4,0.9,'Soft sweep,\\n'+r'$e = 0.12,$'+'\\n'+r'$o = -0.51$')\n",
    "#plt.text(0.375,0.925,'Hard sweep,\\n'+r'$e = 0.09,$'+'\\n'+r'$o = 0.07$')\n",
    "#plt.text(3.3,0.925,'Soft sweep,\\n'+r'$e = 0.06$,'+'\\n'+r'$o = -0.23$')\n",
    "plt.xlabel(\"Time since optimum shift (units of N generations)\")\n",
    "plt.ylabel(\"Mutation frequency\")\n",
    "#plt.hlines(0.35,0.75,3.5)\n",
    "#plt.vlines(0.75,0.325,0.35)\n",
    "#plt.vlines(3.5,0.325,0.35)\n",
    "#plt.text(0.75,0.365,\"After optimum is reached, \"+\n",
    "#         \"there is a period of long-lived mutations\\naffecting fitness. \"+\n",
    "#         \"Genetic load is getting sorted out.\",fontsize=14)\n",
    "#plt.vlines(3.3,0.475,0.525)\n",
    "#ax=plt.axes()\n",
    "#ax.arrow(3.3,0.5,1.5,0)\n",
    "plt.legend(bbox_to_anchor=(0.35,1.0),ncol=2,title=r'$e = \\mathrm{effect\\ size}, o = \\mathrm{origination\\ time}$')\n",
    "#plt.text(3.325,0.445,\"Optimum slightly over-shot,\\n\"+r'$G=2\\sum_i e_i = 0.54$'+' due to sweeps.',fontsize=14)\n",
    "#plt.savefig(\"trajectories.pdf\",bbox_inches='tight')"
   ]
  }
 ],
 "metadata": {
  "kernelspec": {
   "display_name": "Python 2",
   "language": "python",
   "name": "python2"
  },
  "language_info": {
   "codemirror_mode": {
    "name": "ipython",
    "version": 2
   },
   "file_extension": ".py",
   "mimetype": "text/x-python",
   "name": "python",
   "nbconvert_exporter": "python",
   "pygments_lexer": "ipython2",
   "version": "2.7.10"
  }
 },
 "nbformat": 4,
 "nbformat_minor": 0
}
