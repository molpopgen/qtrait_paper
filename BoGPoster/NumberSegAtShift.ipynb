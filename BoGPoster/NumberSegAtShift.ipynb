{
 "cells": [
  {
   "cell_type": "code",
   "execution_count": 1,
   "metadata": {
    "collapsed": true
   },
   "outputs": [],
   "source": [
    "import glob\n",
    "import pandas as pd"
   ]
  },
  {
   "cell_type": "code",
   "execution_count": 2,
   "metadata": {
    "collapsed": true
   },
   "outputs": [],
   "source": [
    "fix=glob.glob('../*.fixations.h5')"
   ]
  },
  {
   "cell_type": "code",
   "execution_count": 5,
   "metadata": {
    "collapsed": false
   },
   "outputs": [
    {
     "name": "stdout",
     "output_type": "stream",
     "text": [
      "../H2_0.2_OPT_1_mu_0.001.fixations.h5\n",
      "rep           512.454088\n",
      "esize           1.638994\n",
      "freq            1.638994\n",
      "generation      1.638994\n",
      "origin          1.638994\n",
      "pos             1.638994\n",
      "age             1.638994\n",
      "dtype: float64\n",
      "../H2_0.2_OPT_0.5_mu_0.001.fixations.h5\n",
      "rep           512.158031\n",
      "esize           1.383420\n",
      "freq            1.383420\n",
      "generation      1.383420\n",
      "origin          1.383420\n",
      "pos             1.383420\n",
      "age             1.383420\n",
      "dtype: float64\n"
     ]
    }
   ],
   "source": [
    "for i in fix:\n",
    "    x=pd.read_hdf(i)\n",
    "    x.reset_index(inplace=True,drop=True)\n",
    "    x=x[x.generation==10000]\n",
    "    print i\n",
    "    print x.groupby('rep').count().reset_index().mean()"
   ]
  },
  {
   "cell_type": "code",
   "execution_count": 6,
   "metadata": {
    "collapsed": true
   },
   "outputs": [],
   "source": [
    "losses=glob.glob(\"../*.losses.h5\")"
   ]
  },
  {
   "cell_type": "code",
   "execution_count": 7,
   "metadata": {
    "collapsed": false
   },
   "outputs": [
    {
     "name": "stdout",
     "output_type": "stream",
     "text": [
      "../H2_0.2_OPT_1_mu_0.001.losses.h5\n",
      "rep           511.500000\n",
      "esize          16.630859\n",
      "freq           16.630859\n",
      "generation     16.630859\n",
      "origin         16.630859\n",
      "pos            16.630859\n",
      "age            16.630859\n",
      "dtype: float64\n",
      "../H2_0.2_OPT_0.5_mu_0.001.losses.h5\n",
      "rep           511.500000\n",
      "esize          16.987305\n",
      "freq           16.987305\n",
      "generation     16.987305\n",
      "origin         16.987305\n",
      "pos            16.987305\n",
      "age            16.987305\n",
      "dtype: float64\n"
     ]
    }
   ],
   "source": [
    "for i in losses:\n",
    "    x=pd.read_hdf(i)\n",
    "    x.reset_index(inplace=True,drop=True)\n",
    "    x=x[x.generation==10000]\n",
    "    print i\n",
    "    print x.groupby('rep').count().reset_index().mean()"
   ]
  },
  {
   "cell_type": "code",
   "execution_count": 11,
   "metadata": {
    "collapsed": false
   },
   "outputs": [
    {
     "data": {
      "text/plain": [
       "rep           511.5\n",
       "esize          17.0\n",
       "freq           17.0\n",
       "generation     17.0\n",
       "origin         17.0\n",
       "pos            17.0\n",
       "age            17.0\n",
       "dtype: float64"
      ]
     },
     "execution_count": 11,
     "metadata": {},
     "output_type": "execute_result"
    }
   ],
   "source": [
    "x.groupby('rep').count().reset_index().median()"
   ]
  },
  {
   "cell_type": "code",
   "execution_count": null,
   "metadata": {
    "collapsed": true
   },
   "outputs": [],
   "source": []
  }
 ],
 "metadata": {
  "kernelspec": {
   "display_name": "Python 2",
   "language": "python",
   "name": "python2"
  },
  "language_info": {
   "codemirror_mode": {
    "name": "ipython",
    "version": 2
   },
   "file_extension": ".py",
   "mimetype": "text/x-python",
   "name": "python",
   "nbconvert_exporter": "python",
   "pygments_lexer": "ipython2",
   "version": "2.7.10"
  }
 },
 "nbformat": 4,
 "nbformat_minor": 0
}
