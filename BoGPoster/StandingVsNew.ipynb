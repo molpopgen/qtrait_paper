{
 "cells": [
  {
   "cell_type": "markdown",
   "metadata": {},
   "source": [
    "Count up sweeps from standing variation (origin pre-optimum, fixation post optimum) vs. from new mutations (both post-optimum)"
   ]
  },
  {
   "cell_type": "code",
   "execution_count": 1,
   "metadata": {
    "collapsed": false
   },
   "outputs": [],
   "source": [
    "#This script requires that reduce.sh has been executed from the BoGPoster directory\n",
    "#The purpose of this notebook is to execute taht big loop below and picke the output...\n",
    "#%matplotlib inline\n",
    "#import matplotlib\n",
    "#import matplotlib.pyplot as plt\n",
    "import pandas as pd\n",
    "import numpy as np\n",
    "import feather  ##To get data to R\n",
    "import math\n",
    "import glob\n",
    "import pickle"
   ]
  },
  {
   "cell_type": "code",
   "execution_count": 2,
   "metadata": {
    "collapsed": false
   },
   "outputs": [],
   "source": [
    "ff=glob.glob('../*.fixations.h5')"
   ]
  },
  {
   "cell_type": "code",
   "execution_count": 3,
   "metadata": {
    "collapsed": false
   },
   "outputs": [
    {
     "name": "stdout",
     "output_type": "stream",
     "text": [
      "{'H2': '0.2', 'OPT': '1', 'mu': '0.001'}\n",
      "{'H2': '0.2', 'OPT': '0.5', 'mu': '0.001'}\n"
     ]
    }
   ],
   "source": [
    "DATA=[]\n",
    "for i in ff:\n",
    "    fn=i\n",
    "    i=i.strip('../')\n",
    "    i=i.strip('.fixations.h5')\n",
    "    i=i.split('_')\n",
    "    PARAMS=dict(zip(i[0::2],i[1::2]))\n",
    "    print PARAMS\n",
    "    #break\n",
    "    data=pd.read_hdf(fn)\n",
    "    data.reset_index(inplace=True,drop=True)\n",
    "    \n",
    "    dg=data.groupby(['rep'])\n",
    "    for i in dg.groups:\n",
    "        dgi=dg.get_group(i)\n",
    "        g2=dgi.groupby(['pos','esize','origin'])\n",
    "        standing=0\n",
    "        new=0\n",
    "        for j in g2.groups:\n",
    "            fi = g2.get_group(j)\n",
    "            o=fi.iloc[0]['origin']\n",
    "            f=fi.iloc[len(fi.index)-1]['generation']\n",
    "            e=fi.iloc[0]['esize']\n",
    "            rep=fi.iloc[0]['rep']\n",
    "            if o < 10000 and f >= 10000:\n",
    "                standing += 1\n",
    "                fo=fi[fi.generation==10000].iloc[0]['freq']\n",
    "                DATA.append({\n",
    "                        'esize':e,\n",
    "                        'origin':o,\n",
    "                        'flen':(f-o+1),\n",
    "                        'ftime':f,\n",
    "                        'rep':rep,\n",
    "                        'f0':fo,\n",
    "                        'type':0,\n",
    "                        'opt':float(PARAMS['OPT'])\n",
    "                    })\n",
    "            elif o > 10000 and f > 10000:\n",
    "                DATA.append({\n",
    "                        'esize':e,\n",
    "                        'origin':o,\n",
    "                        'flen':(f-o+1),\n",
    "                        'ftime':f,\n",
    "                        'rep':rep,\n",
    "                        'f0':-1.0,\n",
    "                        'type':1,\n",
    "                        'opt':float(PARAMS['OPT'])\n",
    "                    })\n",
    "                    \n"
   ]
  },
  {
   "cell_type": "markdown",
   "metadata": {
    "collapsed": true
   },
   "source": [
    "Turn it all into a pd.DataFrame and then a feather file for processing in R and/or Python/Pandas:"
   ]
  },
  {
   "cell_type": "code",
   "execution_count": 4,
   "metadata": {
    "collapsed": true
   },
   "outputs": [],
   "source": [
    "df=pd.DataFrame(DATA)"
   ]
  },
  {
   "cell_type": "code",
   "execution_count": 5,
   "metadata": {
    "collapsed": false
   },
   "outputs": [
    {
     "data": {
      "text/html": [
       "<div>\n",
       "<table border=\"1\" class=\"dataframe\">\n",
       "  <thead>\n",
       "    <tr style=\"text-align: right;\">\n",
       "      <th></th>\n",
       "      <th>esize</th>\n",
       "      <th>f0</th>\n",
       "      <th>flen</th>\n",
       "      <th>ftime</th>\n",
       "      <th>opt</th>\n",
       "      <th>origin</th>\n",
       "      <th>rep</th>\n",
       "      <th>type</th>\n",
       "    </tr>\n",
       "  </thead>\n",
       "  <tbody>\n",
       "    <tr>\n",
       "      <th>0</th>\n",
       "      <td>-0.044386</td>\n",
       "      <td>-1.0000</td>\n",
       "      <td>3591.0</td>\n",
       "      <td>17786.0</td>\n",
       "      <td>1.0</td>\n",
       "      <td>14196.0</td>\n",
       "      <td>0.0</td>\n",
       "      <td>1</td>\n",
       "    </tr>\n",
       "    <tr>\n",
       "      <th>1</th>\n",
       "      <td>0.002162</td>\n",
       "      <td>-1.0000</td>\n",
       "      <td>3829.0</td>\n",
       "      <td>16554.0</td>\n",
       "      <td>1.0</td>\n",
       "      <td>12726.0</td>\n",
       "      <td>0.0</td>\n",
       "      <td>1</td>\n",
       "    </tr>\n",
       "    <tr>\n",
       "      <th>2</th>\n",
       "      <td>0.233656</td>\n",
       "      <td>-1.0000</td>\n",
       "      <td>5647.0</td>\n",
       "      <td>15649.0</td>\n",
       "      <td>1.0</td>\n",
       "      <td>10003.0</td>\n",
       "      <td>0.0</td>\n",
       "      <td>1</td>\n",
       "    </tr>\n",
       "    <tr>\n",
       "      <th>3</th>\n",
       "      <td>0.379240</td>\n",
       "      <td>0.0005</td>\n",
       "      <td>149.0</td>\n",
       "      <td>10147.0</td>\n",
       "      <td>1.0</td>\n",
       "      <td>9999.0</td>\n",
       "      <td>0.0</td>\n",
       "      <td>0</td>\n",
       "    </tr>\n",
       "    <tr>\n",
       "      <th>4</th>\n",
       "      <td>-0.027446</td>\n",
       "      <td>-1.0000</td>\n",
       "      <td>2211.0</td>\n",
       "      <td>16366.0</td>\n",
       "      <td>1.0</td>\n",
       "      <td>14156.0</td>\n",
       "      <td>0.0</td>\n",
       "      <td>1</td>\n",
       "    </tr>\n",
       "  </tbody>\n",
       "</table>\n",
       "</div>"
      ],
      "text/plain": [
       "      esize      f0    flen    ftime  opt   origin  rep  type\n",
       "0 -0.044386 -1.0000  3591.0  17786.0  1.0  14196.0  0.0     1\n",
       "1  0.002162 -1.0000  3829.0  16554.0  1.0  12726.0  0.0     1\n",
       "2  0.233656 -1.0000  5647.0  15649.0  1.0  10003.0  0.0     1\n",
       "3  0.379240  0.0005   149.0  10147.0  1.0   9999.0  0.0     0\n",
       "4 -0.027446 -1.0000  2211.0  16366.0  1.0  14156.0  0.0     1"
      ]
     },
     "execution_count": 5,
     "metadata": {},
     "output_type": "execute_result"
    }
   ],
   "source": [
    "df.head()"
   ]
  },
  {
   "cell_type": "code",
   "execution_count": 6,
   "metadata": {
    "collapsed": false
   },
   "outputs": [],
   "source": [
    "feather.write_dataframe(df,'standing_vs_new.feather')"
   ]
  },
  {
   "cell_type": "code",
   "execution_count": 10,
   "metadata": {
    "collapsed": false
   },
   "outputs": [
    {
     "data": {
      "text/html": [
       "<div>\n",
       "<table border=\"1\" class=\"dataframe\">\n",
       "  <thead>\n",
       "    <tr style=\"text-align: right;\">\n",
       "      <th></th>\n",
       "      <th>esize</th>\n",
       "      <th>f0</th>\n",
       "      <th>flen</th>\n",
       "      <th>ftime</th>\n",
       "      <th>opt</th>\n",
       "      <th>origin</th>\n",
       "      <th>rep</th>\n",
       "      <th>type</th>\n",
       "    </tr>\n",
       "  </thead>\n",
       "  <tbody>\n",
       "    <tr>\n",
       "      <th>0</th>\n",
       "      <td>-0.044386</td>\n",
       "      <td>-1.0000</td>\n",
       "      <td>3591.0</td>\n",
       "      <td>17786.0</td>\n",
       "      <td>1.0</td>\n",
       "      <td>14196.0</td>\n",
       "      <td>0.0</td>\n",
       "      <td>1</td>\n",
       "    </tr>\n",
       "    <tr>\n",
       "      <th>1</th>\n",
       "      <td>0.002162</td>\n",
       "      <td>-1.0000</td>\n",
       "      <td>3829.0</td>\n",
       "      <td>16554.0</td>\n",
       "      <td>1.0</td>\n",
       "      <td>12726.0</td>\n",
       "      <td>0.0</td>\n",
       "      <td>1</td>\n",
       "    </tr>\n",
       "    <tr>\n",
       "      <th>2</th>\n",
       "      <td>0.233656</td>\n",
       "      <td>-1.0000</td>\n",
       "      <td>5647.0</td>\n",
       "      <td>15649.0</td>\n",
       "      <td>1.0</td>\n",
       "      <td>10003.0</td>\n",
       "      <td>0.0</td>\n",
       "      <td>1</td>\n",
       "    </tr>\n",
       "    <tr>\n",
       "      <th>3</th>\n",
       "      <td>0.379240</td>\n",
       "      <td>0.0005</td>\n",
       "      <td>149.0</td>\n",
       "      <td>10147.0</td>\n",
       "      <td>1.0</td>\n",
       "      <td>9999.0</td>\n",
       "      <td>0.0</td>\n",
       "      <td>0</td>\n",
       "    </tr>\n",
       "    <tr>\n",
       "      <th>4</th>\n",
       "      <td>-0.027446</td>\n",
       "      <td>-1.0000</td>\n",
       "      <td>2211.0</td>\n",
       "      <td>16366.0</td>\n",
       "      <td>1.0</td>\n",
       "      <td>14156.0</td>\n",
       "      <td>0.0</td>\n",
       "      <td>1</td>\n",
       "    </tr>\n",
       "    <tr>\n",
       "      <th>5</th>\n",
       "      <td>-0.007042</td>\n",
       "      <td>-1.0000</td>\n",
       "      <td>3470.0</td>\n",
       "      <td>15570.0</td>\n",
       "      <td>1.0</td>\n",
       "      <td>12101.0</td>\n",
       "      <td>0.0</td>\n",
       "      <td>1</td>\n",
       "    </tr>\n",
       "    <tr>\n",
       "      <th>3164</th>\n",
       "      <td>-0.012076</td>\n",
       "      <td>-1.0000</td>\n",
       "      <td>2857.0</td>\n",
       "      <td>19687.0</td>\n",
       "      <td>0.5</td>\n",
       "      <td>16831.0</td>\n",
       "      <td>0.0</td>\n",
       "      <td>1</td>\n",
       "    </tr>\n",
       "    <tr>\n",
       "      <th>3165</th>\n",
       "      <td>0.055402</td>\n",
       "      <td>0.0710</td>\n",
       "      <td>3494.0</td>\n",
       "      <td>13259.0</td>\n",
       "      <td>0.5</td>\n",
       "      <td>9766.0</td>\n",
       "      <td>0.0</td>\n",
       "      <td>0</td>\n",
       "    </tr>\n",
       "    <tr>\n",
       "      <th>3166</th>\n",
       "      <td>0.124055</td>\n",
       "      <td>0.1075</td>\n",
       "      <td>757.0</td>\n",
       "      <td>10249.0</td>\n",
       "      <td>0.5</td>\n",
       "      <td>9493.0</td>\n",
       "      <td>0.0</td>\n",
       "      <td>0</td>\n",
       "    </tr>\n",
       "    <tr>\n",
       "      <th>3167</th>\n",
       "      <td>0.093769</td>\n",
       "      <td>-1.0000</td>\n",
       "      <td>989.0</td>\n",
       "      <td>11057.0</td>\n",
       "      <td>0.5</td>\n",
       "      <td>10069.0</td>\n",
       "      <td>0.0</td>\n",
       "      <td>1</td>\n",
       "    </tr>\n",
       "  </tbody>\n",
       "</table>\n",
       "</div>"
      ],
      "text/plain": [
       "         esize      f0    flen    ftime  opt   origin  rep  type\n",
       "0    -0.044386 -1.0000  3591.0  17786.0  1.0  14196.0  0.0     1\n",
       "1     0.002162 -1.0000  3829.0  16554.0  1.0  12726.0  0.0     1\n",
       "2     0.233656 -1.0000  5647.0  15649.0  1.0  10003.0  0.0     1\n",
       "3     0.379240  0.0005   149.0  10147.0  1.0   9999.0  0.0     0\n",
       "4    -0.027446 -1.0000  2211.0  16366.0  1.0  14156.0  0.0     1\n",
       "5    -0.007042 -1.0000  3470.0  15570.0  1.0  12101.0  0.0     1\n",
       "3164 -0.012076 -1.0000  2857.0  19687.0  0.5  16831.0  0.0     1\n",
       "3165  0.055402  0.0710  3494.0  13259.0  0.5   9766.0  0.0     0\n",
       "3166  0.124055  0.1075   757.0  10249.0  0.5   9493.0  0.0     0\n",
       "3167  0.093769 -1.0000   989.0  11057.0  0.5  10069.0  0.0     1"
      ]
     },
     "execution_count": 10,
     "metadata": {},
     "output_type": "execute_result"
    }
   ],
   "source": [
    "df[df.rep==0]"
   ]
  },
  {
   "cell_type": "code",
   "execution_count": 7,
   "metadata": {
    "collapsed": false
   },
   "outputs": [],
   "source": [
    "g=df.groupby(['rep','opt','type'])"
   ]
  },
  {
   "cell_type": "code",
   "execution_count": 27,
   "metadata": {
    "collapsed": false
   },
   "outputs": [
    {
     "data": {
      "text/html": [
       "<div>\n",
       "<table border=\"1\" class=\"dataframe\">\n",
       "  <thead>\n",
       "    <tr style=\"text-align: right;\">\n",
       "      <th></th>\n",
       "      <th>type</th>\n",
       "      <th>rep</th>\n",
       "      <th>0</th>\n",
       "      <th>1</th>\n",
       "    </tr>\n",
       "    <tr>\n",
       "      <th>opt</th>\n",
       "      <th>type</th>\n",
       "      <th></th>\n",
       "      <th></th>\n",
       "      <th></th>\n",
       "    </tr>\n",
       "  </thead>\n",
       "  <tbody>\n",
       "    <tr>\n",
       "      <th rowspan=\"2\" valign=\"top\">0.5</th>\n",
       "      <th>0</th>\n",
       "      <td>510.600529</td>\n",
       "      <td>1.382275</td>\n",
       "      <td>NaN</td>\n",
       "    </tr>\n",
       "    <tr>\n",
       "      <th>1</th>\n",
       "      <td>513.239814</td>\n",
       "      <td>NaN</td>\n",
       "      <td>2.089639</td>\n",
       "    </tr>\n",
       "    <tr>\n",
       "      <th rowspan=\"2\" valign=\"top\">1.0</th>\n",
       "      <th>0</th>\n",
       "      <td>508.120160</td>\n",
       "      <td>1.616822</td>\n",
       "      <td>NaN</td>\n",
       "    </tr>\n",
       "    <tr>\n",
       "      <th>1</th>\n",
       "      <td>508.973363</td>\n",
       "      <td>NaN</td>\n",
       "      <td>2.167592</td>\n",
       "    </tr>\n",
       "  </tbody>\n",
       "</table>\n",
       "</div>"
      ],
      "text/plain": [
       "type             rep         0         1\n",
       "opt type                                \n",
       "0.5 0     510.600529  1.382275       NaN\n",
       "    1     513.239814       NaN  2.089639\n",
       "1.0 0     508.120160  1.616822       NaN\n",
       "    1     508.973363       NaN  2.167592"
      ]
     },
     "execution_count": 27,
     "metadata": {},
     "output_type": "execute_result"
    }
   ],
   "source": [
    "#Lesson: at first, this was not as easy as dplyr, but \n",
    "#I got it wrong in dplyr the first time and would not have noticed.\n",
    "g['type'].value_counts().unstack().reset_index().groupby(['opt','type']).mean()"
   ]
  },
  {
   "cell_type": "code",
   "execution_count": 28,
   "metadata": {
    "collapsed": false
   },
   "outputs": [
    {
     "data": {
      "text/html": [
       "<div>\n",
       "<table border=\"1\" class=\"dataframe\">\n",
       "  <thead>\n",
       "    <tr style=\"text-align: right;\">\n",
       "      <th></th>\n",
       "      <th>type</th>\n",
       "      <th>rep</th>\n",
       "      <th>0</th>\n",
       "      <th>1</th>\n",
       "    </tr>\n",
       "    <tr>\n",
       "      <th>opt</th>\n",
       "      <th>type</th>\n",
       "      <th></th>\n",
       "      <th></th>\n",
       "      <th></th>\n",
       "    </tr>\n",
       "  </thead>\n",
       "  <tbody>\n",
       "    <tr>\n",
       "      <th rowspan=\"2\" valign=\"top\">0.5</th>\n",
       "      <th>0</th>\n",
       "      <td>0.0</td>\n",
       "      <td>1.0</td>\n",
       "      <td>NaN</td>\n",
       "    </tr>\n",
       "    <tr>\n",
       "      <th>1</th>\n",
       "      <td>0.0</td>\n",
       "      <td>NaN</td>\n",
       "      <td>1.0</td>\n",
       "    </tr>\n",
       "    <tr>\n",
       "      <th rowspan=\"2\" valign=\"top\">1.0</th>\n",
       "      <th>0</th>\n",
       "      <td>0.0</td>\n",
       "      <td>1.0</td>\n",
       "      <td>NaN</td>\n",
       "    </tr>\n",
       "    <tr>\n",
       "      <th>1</th>\n",
       "      <td>0.0</td>\n",
       "      <td>NaN</td>\n",
       "      <td>1.0</td>\n",
       "    </tr>\n",
       "  </tbody>\n",
       "</table>\n",
       "</div>"
      ],
      "text/plain": [
       "type      rep    0    1\n",
       "opt type               \n",
       "0.5 0     0.0  1.0  NaN\n",
       "    1     0.0  NaN  1.0\n",
       "1.0 0     0.0  1.0  NaN\n",
       "    1     0.0  NaN  1.0"
      ]
     },
     "execution_count": 28,
     "metadata": {},
     "output_type": "execute_result"
    }
   ],
   "source": [
    "g['type'].value_counts().unstack().reset_index().groupby(['opt','type']).min()"
   ]
  },
  {
   "cell_type": "code",
   "execution_count": 29,
   "metadata": {
    "collapsed": false
   },
   "outputs": [
    {
     "data": {
      "text/html": [
       "<div>\n",
       "<table border=\"1\" class=\"dataframe\">\n",
       "  <thead>\n",
       "    <tr style=\"text-align: right;\">\n",
       "      <th></th>\n",
       "      <th>type</th>\n",
       "      <th>rep</th>\n",
       "      <th>0</th>\n",
       "      <th>1</th>\n",
       "    </tr>\n",
       "    <tr>\n",
       "      <th>opt</th>\n",
       "      <th>type</th>\n",
       "      <th></th>\n",
       "      <th></th>\n",
       "      <th></th>\n",
       "    </tr>\n",
       "  </thead>\n",
       "  <tbody>\n",
       "    <tr>\n",
       "      <th rowspan=\"2\" valign=\"top\">0.5</th>\n",
       "      <th>0</th>\n",
       "      <td>1023.0</td>\n",
       "      <td>4.0</td>\n",
       "      <td>NaN</td>\n",
       "    </tr>\n",
       "    <tr>\n",
       "      <th>1</th>\n",
       "      <td>1023.0</td>\n",
       "      <td>NaN</td>\n",
       "      <td>7.0</td>\n",
       "    </tr>\n",
       "    <tr>\n",
       "      <th rowspan=\"2\" valign=\"top\">1.0</th>\n",
       "      <th>0</th>\n",
       "      <td>1023.0</td>\n",
       "      <td>5.0</td>\n",
       "      <td>NaN</td>\n",
       "    </tr>\n",
       "    <tr>\n",
       "      <th>1</th>\n",
       "      <td>1023.0</td>\n",
       "      <td>NaN</td>\n",
       "      <td>7.0</td>\n",
       "    </tr>\n",
       "  </tbody>\n",
       "</table>\n",
       "</div>"
      ],
      "text/plain": [
       "type         rep    0    1\n",
       "opt type                  \n",
       "0.5 0     1023.0  4.0  NaN\n",
       "    1     1023.0  NaN  7.0\n",
       "1.0 0     1023.0  5.0  NaN\n",
       "    1     1023.0  NaN  7.0"
      ]
     },
     "execution_count": 29,
     "metadata": {},
     "output_type": "execute_result"
    }
   ],
   "source": [
    "g['type'].value_counts().unstack().reset_index().groupby(['opt','type']).max()"
   ]
  },
  {
   "cell_type": "code",
   "execution_count": 32,
   "metadata": {
    "collapsed": false
   },
   "outputs": [
    {
     "data": {
      "text/html": [
       "<div>\n",
       "<table border=\"1\" class=\"dataframe\">\n",
       "  <thead>\n",
       "    <tr style=\"text-align: right;\">\n",
       "      <th></th>\n",
       "      <th></th>\n",
       "      <th>esize</th>\n",
       "      <th>f0</th>\n",
       "      <th>flen</th>\n",
       "      <th>ftime</th>\n",
       "      <th>origin</th>\n",
       "      <th>rep</th>\n",
       "    </tr>\n",
       "    <tr>\n",
       "      <th>opt</th>\n",
       "      <th>type</th>\n",
       "      <th></th>\n",
       "      <th></th>\n",
       "      <th></th>\n",
       "      <th></th>\n",
       "      <th></th>\n",
       "      <th></th>\n",
       "    </tr>\n",
       "  </thead>\n",
       "  <tbody>\n",
       "    <tr>\n",
       "      <th rowspan=\"2\" valign=\"top\">0.5</th>\n",
       "      <th>0</th>\n",
       "      <td>0.158472</td>\n",
       "      <td>0.052603</td>\n",
       "      <td>1345.858373</td>\n",
       "      <td>11190.989474</td>\n",
       "      <td>9846.131100</td>\n",
       "      <td>514.592344</td>\n",
       "    </tr>\n",
       "    <tr>\n",
       "      <th>1</th>\n",
       "      <td>0.044351</td>\n",
       "      <td>-1.000000</td>\n",
       "      <td>2437.890251</td>\n",
       "      <td>14469.967688</td>\n",
       "      <td>12033.077437</td>\n",
       "      <td>517.397214</td>\n",
       "    </tr>\n",
       "    <tr>\n",
       "      <th rowspan=\"2\" valign=\"top\">1.0</th>\n",
       "      <th>0</th>\n",
       "      <td>0.213010</td>\n",
       "      <td>0.041191</td>\n",
       "      <td>1130.093311</td>\n",
       "      <td>10994.000000</td>\n",
       "      <td>9864.906689</td>\n",
       "      <td>501.423617</td>\n",
       "    </tr>\n",
       "    <tr>\n",
       "      <th>1</th>\n",
       "      <td>0.109691</td>\n",
       "      <td>-1.000000</td>\n",
       "      <td>2200.355351</td>\n",
       "      <td>13942.031234</td>\n",
       "      <td>11742.675883</td>\n",
       "      <td>515.651818</td>\n",
       "    </tr>\n",
       "  </tbody>\n",
       "</table>\n",
       "</div>"
      ],
      "text/plain": [
       "             esize        f0         flen         ftime        origin  \\\n",
       "opt type                                                                \n",
       "0.5 0     0.158472  0.052603  1345.858373  11190.989474   9846.131100   \n",
       "    1     0.044351 -1.000000  2437.890251  14469.967688  12033.077437   \n",
       "1.0 0     0.213010  0.041191  1130.093311  10994.000000   9864.906689   \n",
       "    1     0.109691 -1.000000  2200.355351  13942.031234  11742.675883   \n",
       "\n",
       "                 rep  \n",
       "opt type              \n",
       "0.5 0     514.592344  \n",
       "    1     517.397214  \n",
       "1.0 0     501.423617  \n",
       "    1     515.651818  "
      ]
     },
     "execution_count": 32,
     "metadata": {},
     "output_type": "execute_result"
    }
   ],
   "source": [
    "df.groupby(['opt','type']).mean()"
   ]
  },
  {
   "cell_type": "code",
   "execution_count": null,
   "metadata": {
    "collapsed": true
   },
   "outputs": [],
   "source": []
  }
 ],
 "metadata": {
  "kernelspec": {
   "display_name": "Python 2",
   "language": "python",
   "name": "python2"
  },
  "language_info": {
   "codemirror_mode": {
    "name": "ipython",
    "version": 2
   },
   "file_extension": ".py",
   "mimetype": "text/x-python",
   "name": "python",
   "nbconvert_exporter": "python",
   "pygments_lexer": "ipython2",
   "version": "2.7.10"
  }
 },
 "nbformat": 4,
 "nbformat_minor": 0
}
