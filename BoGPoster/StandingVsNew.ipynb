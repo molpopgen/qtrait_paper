{
 "cells": [
  {
   "cell_type": "markdown",
   "metadata": {},
   "source": [
    "Count up sweeps from standing variation (origin pre-optimum, fixation post optimum) vs. from new mutations (both post-optimum)"
   ]
  },
  {
   "cell_type": "code",
   "execution_count": 1,
   "metadata": {
    "collapsed": false
   },
   "outputs": [],
   "source": [
    "#This script requires that reduce.sh has been executed from the BoGPoster directory\n",
    "#The purpose of this notebook is to execute taht big loop below and picke the output...\n",
    "#%matplotlib inline\n",
    "#import matplotlib\n",
    "#import matplotlib.pyplot as plt\n",
    "import pandas as pd\n",
    "import numpy as np\n",
    "import math\n",
    "import glob\n",
    "import pickle"
   ]
  },
  {
   "cell_type": "code",
   "execution_count": 2,
   "metadata": {
    "collapsed": false
   },
   "outputs": [],
   "source": [
    "ff=glob.glob('../*.fixations.h5')"
   ]
  },
  {
   "cell_type": "code",
   "execution_count": 3,
   "metadata": {
    "collapsed": false
   },
   "outputs": [],
   "source": [
    "PARAMS=[]\n",
    "OUTCOMES=[]\n",
    "for i in ff:\n",
    "    fn=i\n",
    "    i=i.strip('../')\n",
    "    i=i.strip('.fixations.h5')\n",
    "    i=i.split('_')\n",
    "    PARAMS.append(dict(zip(i[0::2],i[1::2])))\n",
    "    data=pd.read_hdf(fn)\n",
    "    data.reset_index(inplace=True,drop=True)\n",
    "    \n",
    "    ##TAlly up classic vs standing sweeps\n",
    "    STANDING=[]\n",
    "    STANDINGSIZES=[]\n",
    "    STANDINGORIGINS=[]\n",
    "    STANDINGFTIMES=[]\n",
    "    STANDINGLENGTHS=[]\n",
    "    FO=[]\n",
    "    NEW=[]\n",
    "    NEWSIZES=[]\n",
    "    NEWORIGINS=[]\n",
    "    NEWFTIMES=[]\n",
    "    NEWLENGTHS=[]\n",
    "    dg=data.groupby(['rep'])\n",
    "    for i in dg.groups:\n",
    "        dgi=dg.get_group(i)\n",
    "        g2=dgi.groupby(['pos','esize','origin'])\n",
    "        standing=0\n",
    "        new=0\n",
    "        for j in g2.groups:\n",
    "            fi = g2.get_group(j)\n",
    "            o=fi.iloc[0]['origin']\n",
    "            f=fi.iloc[len(fi.index)-1]['generation']\n",
    "            e=fi.iloc[0]['esize']\n",
    "            rep=fi.iloc[0]['rep']\n",
    "            if o < 10000 and f >= 10000:\n",
    "                standing += 1\n",
    "                STANDINGSIZES.append({'esize':e,'rep':rep})\n",
    "                STANDINGORIGINS.append({'origin':o,'rep':rep})\n",
    "                STANDINGLENGTHS.append({'flen':(f-o+1),'rep':rep})\n",
    "                STANDINGFTIMES.append({'ftime':(f),'rep':rep})\n",
    "                #This if frequency when optimum shifted,\n",
    "                #Based on a pd.DF slice...\n",
    "                fo=fi[fi.generation==10000].iloc[0]['freq']\n",
    "                FO.append({'fo':fo,'rep':rep})\n",
    "            elif o > 10000 and f > 10000:\n",
    "                new+=1\n",
    "                NEWSIZES.append({'esize':e,'rep':rep})\n",
    "                NEWORIGINS.append({'origin':o,'rep':rep})\n",
    "                NEWLENGTHS.append({'flen':(f-o+1),'rep':rep})\n",
    "                NEWFTIMES.append({'ftime':(f),'rep':rep})\n",
    "        STANDING.append(standing)\n",
    "        NEW.append(new)\n",
    "    OUTCOMES.append( {'standing':STANDING,\n",
    "                      'standing_esizes':STANDINGSIZES,\n",
    "                      'standing_origins':STANDINGORIGINS,\n",
    "                      'standing_ftimes':STANDINGFTIMES,\n",
    "                      'standing_lengths':STANDINGLENGTHS,\n",
    "                      'f0':FO,\n",
    "                      'new':NEW,\n",
    "                      'new_esizes':NEWSIZES,\n",
    "                      'new_origins':NEWORIGINS,\n",
    "                      'new_ftimes':NEWFTIMES,\n",
    "                      'new_lengths':NEWLENGTHS\n",
    "                      }\n",
    "                    )\n"
   ]
  },
  {
   "cell_type": "code",
   "execution_count": 4,
   "metadata": {
    "collapsed": false
   },
   "outputs": [],
   "source": [
    "pfile=open('params.pickle','w')\n",
    "pickle.dump(PARAMS,pfile)\n",
    "pfile.close()"
   ]
  },
  {
   "cell_type": "code",
   "execution_count": 5,
   "metadata": {
    "collapsed": false
   },
   "outputs": [],
   "source": [
    "pfile=open('outcomes.pickle','w')\n",
    "pickle.dump(OUTCOMES,pfile)\n",
    "pfile.close()"
   ]
  },
  {
   "cell_type": "code",
   "execution_count": null,
   "metadata": {
    "collapsed": true
   },
   "outputs": [],
   "source": []
  }
 ],
 "metadata": {
  "kernelspec": {
   "display_name": "Python 2",
   "language": "python",
   "name": "python2"
  },
  "language_info": {
   "codemirror_mode": {
    "name": "ipython",
    "version": 2
   },
   "file_extension": ".py",
   "mimetype": "text/x-python",
   "name": "python",
   "nbconvert_exporter": "python",
   "pygments_lexer": "ipython2",
   "version": "2.7.10"
  }
 },
 "nbformat": 4,
 "nbformat_minor": 0
}
